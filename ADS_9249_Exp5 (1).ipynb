{
  "nbformat": 4,
  "nbformat_minor": 0,
  "metadata": {
    "colab": {
      "provenance": []
    },
    "kernelspec": {
      "name": "python3",
      "display_name": "Python 3"
    },
    "language_info": {
      "name": "python"
    }
  },
  "cells": [
    {
      "cell_type": "markdown",
      "source": [
        "Name: Divyansh Dalmia\n",
        "\n",
        "Class: BE-Comps-B\n",
        "\n",
        "Roll No: 9249"
      ],
      "metadata": {
        "id": "ByaULJF-52fH"
      }
    },
    {
      "cell_type": "code",
      "source": [
        "import numpy as np\n",
        "#np.random.seed(0)"
      ],
      "metadata": {
        "id": "1QDJmw8UOteG"
      },
      "execution_count": 1,
      "outputs": []
    },
    {
      "cell_type": "code",
      "source": [
        "def sigmoid (x):\n",
        "    return 1/(1 + np.exp(-x))\n",
        "\n",
        "def sigmoid_derivative(x):\n",
        "    return x * (1 - x)"
      ],
      "metadata": {
        "id": "KRAZWM7iOygf"
      },
      "execution_count": 2,
      "outputs": []
    },
    {
      "cell_type": "code",
      "source": [
        "#Input datasets\n",
        "inputs = np.array([[0,0],[0,1],[1,0],[1,1]])\n",
        "expected_output = np.array([[0],[1],[1],[0]])\n",
        "\n",
        "epochs = 10000\n",
        "lr = 0.1\n",
        "inputLayerNeurons, hiddenLayerNeurons, outputLayerNeurons = 2,2,1"
      ],
      "metadata": {
        "id": "6WP5ylScO3wd"
      },
      "execution_count": 3,
      "outputs": []
    },
    {
      "cell_type": "code",
      "source": [
        "#Random weights and bias initialization\n",
        "hidden_weights = np.random.uniform(size=(inputLayerNeurons,hiddenLayerNeurons))\n",
        "hidden_bias =np.random.uniform(size=(1,hiddenLayerNeurons))\n",
        "output_weights = np.random.uniform(size=(hiddenLayerNeurons,outputLayerNeurons))\n",
        "output_bias = np.random.uniform(size=(1,outputLayerNeurons))\n",
        "\n",
        "print(\"Initial hidden weights: \",end='')\n",
        "print(*hidden_weights)\n",
        "print(\"Initial hidden biases: \",end='')\n",
        "print(*hidden_bias)\n",
        "print(\"Initial output weights: \",end='')\n",
        "print(*output_weights)\n",
        "print(\"Initial output biases: \",end='')\n",
        "print(*output_bias)"
      ],
      "metadata": {
        "colab": {
          "base_uri": "https://localhost:8080/"
        },
        "id": "bNIs905GO8si",
        "outputId": "dc36958d-ee0b-407a-8927-eee99c3cb94d"
      },
      "execution_count": 4,
      "outputs": [
        {
          "output_type": "stream",
          "name": "stdout",
          "text": [
            "Initial hidden weights: [0.77321058 0.16149909] [0.73473048 0.19367308]\n",
            "Initial hidden biases: [0.35963784 0.65496925]\n",
            "Initial output weights: [0.58270034] [0.52116925]\n",
            "Initial output biases: [0.51230232]\n"
          ]
        }
      ]
    },
    {
      "cell_type": "code",
      "source": [
        "#Training algorithm\n",
        "for _ in range(epochs):\n",
        "\t#Forward Propagation\n",
        "\thidden_layer_activation = np.dot(inputs,hidden_weights)\n",
        "\thidden_layer_activation += hidden_bias\n",
        "\thidden_layer_output = sigmoid(hidden_layer_activation)\n",
        "\n",
        "\toutput_layer_activation = np.dot(hidden_layer_output,output_weights)\n",
        "\toutput_layer_activation += output_bias\n",
        "\tpredicted_output = sigmoid(output_layer_activation)\n",
        "\n",
        "\t#Backpropagation\n",
        "\terror = expected_output - predicted_output\n",
        "\td_predicted_output = error * sigmoid_derivative(predicted_output)\n",
        "\n",
        "\terror_hidden_layer = d_predicted_output.dot(output_weights.T)\n",
        "\td_hidden_layer = error_hidden_layer * sigmoid_derivative(hidden_layer_output)\n",
        "\n",
        "\t#Updating Weights and Biases\n",
        "\toutput_weights += hidden_layer_output.T.dot(d_predicted_output) * lr\n",
        "\toutput_bias += np.sum(d_predicted_output,axis=0,keepdims=True) * lr\n",
        "\thidden_weights += inputs.T.dot(d_hidden_layer) * lr\n",
        "\thidden_bias += np.sum(d_hidden_layer,axis=0,keepdims=True) * lr"
      ],
      "metadata": {
        "id": "9qpV-YDCPDiX"
      },
      "execution_count": 5,
      "outputs": []
    },
    {
      "cell_type": "code",
      "source": [
        "print(\"Final hidden weights: \",end='')\n",
        "print(*hidden_weights)\n",
        "print(\"Final hidden bias: \",end='')\n",
        "print(*hidden_bias)\n",
        "print(\"Final output weights: \",end='')\n",
        "print(*output_weights)\n",
        "print(\"Final output bias: \",end='')\n",
        "print(*output_bias)\n",
        "\n",
        "print(\"\\nOutput from neural network after 10,000 epochs: \",end='')\n",
        "print(*predicted_output)"
      ],
      "metadata": {
        "colab": {
          "base_uri": "https://localhost:8080/"
        },
        "id": "NTI3RxgFPMM6",
        "outputId": "75bd0a04-b753-4503-c956-0febe95ec12e"
      },
      "execution_count": 6,
      "outputs": [
        {
          "output_type": "stream",
          "name": "stdout",
          "text": [
            "Final hidden weights: [5.85892139 3.69446224] [5.86478945 3.69559814]\n",
            "Final hidden bias: [-2.45081505 -5.65760442]\n",
            "Final output weights: [7.52702321] [-8.19663186]\n",
            "Final output bias: [-3.37838527]\n",
            "\n",
            "Output from neural network after 10,000 epochs: [0.05682287] [0.94777093] [0.94775308] [0.05642039]\n"
          ]
        }
      ]
    },
    {
      "cell_type": "code",
      "source": [],
      "metadata": {
        "id": "s4fW5zncufXK"
      },
      "execution_count": 6,
      "outputs": []
    },
    {
      "cell_type": "markdown",
      "metadata": {
        "id": "KLMTM1qwLZfO"
      },
      "source": [
        "# Coding Companion for Intuitive Deep Learning Part 1 (Annotated)"
      ]
    },
    {
      "cell_type": "markdown",
      "metadata": {
        "id": "WvpPXykoLZfQ"
      },
      "source": [
        "In this notebook, we'll go through the code for the coding companion for Intuitive Deep Learning Part 1 ([Part 1a](https://medium.com/intuitive-deep-learning/intuitive-deep-learning-part-1a-introduction-to-neural-networks-d7b16ebf6b99), [Part 1b](https://medium.com/intuitive-deep-learning/intuitive-deep-learning-part-1b-introduction-to-neural-networks-8565d97ddd2d)) to create your very first neural network to predict whether the house price is below or above median value. We will go through the following in this notebook:\n",
        "\n",
        "- Exploring and Processing the Data\n",
        "- Building and Training our Neural Network\n",
        "- Visualizing Loss and Accuracy\n",
        "- Adding Regularization to our Neural Network\n",
        "\n",
        "The code is annotated throughout the notebook and you simply need to download the dataset [here](https://drive.google.com/file/d/1GfvKA0qznNVknghV4botnNxyH-KvODOC/view), put the dataset in the same folder as this notebook and run the code cells below. Note that the results you get might differ slightly from the blogpost as there is a degree of randomness in the way we split our dataset as well as the initialization of our neural network."
      ]
    },
    {
      "cell_type": "markdown",
      "metadata": {
        "id": "Pd8meHDCLZfR"
      },
      "source": [
        "# Exploring and Processing the Data"
      ]
    },
    {
      "cell_type": "markdown",
      "metadata": {
        "id": "s-1PhIj2LZfR"
      },
      "source": [
        "We first have to read in the CSV file that we've been given. We'll use a package called pandas for that:"
      ]
    },
    {
      "cell_type": "code",
      "execution_count": 7,
      "metadata": {
        "id": "vVXVOnstLZfS"
      },
      "outputs": [],
      "source": [
        "import pandas as pd"
      ]
    },
    {
      "cell_type": "code",
      "execution_count": 9,
      "metadata": {
        "id": "nP_aWbBXLZfS"
      },
      "outputs": [],
      "source": [
        "df = pd.read_csv('housepricedata.csv')"
      ]
    },
    {
      "cell_type": "code",
      "execution_count": null,
      "metadata": {
        "colab": {
          "base_uri": "https://localhost:8080/",
          "height": 444
        },
        "id": "NWIr7-jyLZfT",
        "outputId": "5a5b8cdd-84d4-4cc5-d210-c7a6f02878c5"
      },
      "outputs": [
        {
          "output_type": "execute_result",
          "data": {
            "text/plain": [
              "      LotArea  OverallQual  OverallCond  TotalBsmtSF  FullBath  HalfBath  \\\n",
              "0        8450            7            5          856         2         1   \n",
              "1        9600            6            8         1262         2         0   \n",
              "2       11250            7            5          920         2         1   \n",
              "3        9550            7            5          756         1         0   \n",
              "4       14260            8            5         1145         2         1   \n",
              "...       ...          ...          ...          ...       ...       ...   \n",
              "1455     7917            6            5          953         2         1   \n",
              "1456    13175            6            6         1542         2         0   \n",
              "1457     9042            7            9         1152         2         0   \n",
              "1458     9717            5            6         1078         1         0   \n",
              "1459     9937            5            6         1256         1         1   \n",
              "\n",
              "      BedroomAbvGr  TotRmsAbvGrd  Fireplaces  GarageArea  AboveMedianPrice  \n",
              "0                3             8           0         548                 1  \n",
              "1                3             6           1         460                 1  \n",
              "2                3             6           1         608                 1  \n",
              "3                3             7           1         642                 0  \n",
              "4                4             9           1         836                 1  \n",
              "...            ...           ...         ...         ...               ...  \n",
              "1455             3             7           1         460                 1  \n",
              "1456             3             7           2         500                 1  \n",
              "1457             4             9           2         252                 1  \n",
              "1458             2             5           0         240                 0  \n",
              "1459             3             6           0         276                 0  \n",
              "\n",
              "[1460 rows x 11 columns]"
            ],
            "text/html": [
              "\n",
              "  <div id=\"df-d3407ae5-f766-4423-859b-6dde09e5d629\" class=\"colab-df-container\">\n",
              "    <div>\n",
              "<style scoped>\n",
              "    .dataframe tbody tr th:only-of-type {\n",
              "        vertical-align: middle;\n",
              "    }\n",
              "\n",
              "    .dataframe tbody tr th {\n",
              "        vertical-align: top;\n",
              "    }\n",
              "\n",
              "    .dataframe thead th {\n",
              "        text-align: right;\n",
              "    }\n",
              "</style>\n",
              "<table border=\"1\" class=\"dataframe\">\n",
              "  <thead>\n",
              "    <tr style=\"text-align: right;\">\n",
              "      <th></th>\n",
              "      <th>LotArea</th>\n",
              "      <th>OverallQual</th>\n",
              "      <th>OverallCond</th>\n",
              "      <th>TotalBsmtSF</th>\n",
              "      <th>FullBath</th>\n",
              "      <th>HalfBath</th>\n",
              "      <th>BedroomAbvGr</th>\n",
              "      <th>TotRmsAbvGrd</th>\n",
              "      <th>Fireplaces</th>\n",
              "      <th>GarageArea</th>\n",
              "      <th>AboveMedianPrice</th>\n",
              "    </tr>\n",
              "  </thead>\n",
              "  <tbody>\n",
              "    <tr>\n",
              "      <th>0</th>\n",
              "      <td>8450</td>\n",
              "      <td>7</td>\n",
              "      <td>5</td>\n",
              "      <td>856</td>\n",
              "      <td>2</td>\n",
              "      <td>1</td>\n",
              "      <td>3</td>\n",
              "      <td>8</td>\n",
              "      <td>0</td>\n",
              "      <td>548</td>\n",
              "      <td>1</td>\n",
              "    </tr>\n",
              "    <tr>\n",
              "      <th>1</th>\n",
              "      <td>9600</td>\n",
              "      <td>6</td>\n",
              "      <td>8</td>\n",
              "      <td>1262</td>\n",
              "      <td>2</td>\n",
              "      <td>0</td>\n",
              "      <td>3</td>\n",
              "      <td>6</td>\n",
              "      <td>1</td>\n",
              "      <td>460</td>\n",
              "      <td>1</td>\n",
              "    </tr>\n",
              "    <tr>\n",
              "      <th>2</th>\n",
              "      <td>11250</td>\n",
              "      <td>7</td>\n",
              "      <td>5</td>\n",
              "      <td>920</td>\n",
              "      <td>2</td>\n",
              "      <td>1</td>\n",
              "      <td>3</td>\n",
              "      <td>6</td>\n",
              "      <td>1</td>\n",
              "      <td>608</td>\n",
              "      <td>1</td>\n",
              "    </tr>\n",
              "    <tr>\n",
              "      <th>3</th>\n",
              "      <td>9550</td>\n",
              "      <td>7</td>\n",
              "      <td>5</td>\n",
              "      <td>756</td>\n",
              "      <td>1</td>\n",
              "      <td>0</td>\n",
              "      <td>3</td>\n",
              "      <td>7</td>\n",
              "      <td>1</td>\n",
              "      <td>642</td>\n",
              "      <td>0</td>\n",
              "    </tr>\n",
              "    <tr>\n",
              "      <th>4</th>\n",
              "      <td>14260</td>\n",
              "      <td>8</td>\n",
              "      <td>5</td>\n",
              "      <td>1145</td>\n",
              "      <td>2</td>\n",
              "      <td>1</td>\n",
              "      <td>4</td>\n",
              "      <td>9</td>\n",
              "      <td>1</td>\n",
              "      <td>836</td>\n",
              "      <td>1</td>\n",
              "    </tr>\n",
              "    <tr>\n",
              "      <th>...</th>\n",
              "      <td>...</td>\n",
              "      <td>...</td>\n",
              "      <td>...</td>\n",
              "      <td>...</td>\n",
              "      <td>...</td>\n",
              "      <td>...</td>\n",
              "      <td>...</td>\n",
              "      <td>...</td>\n",
              "      <td>...</td>\n",
              "      <td>...</td>\n",
              "      <td>...</td>\n",
              "    </tr>\n",
              "    <tr>\n",
              "      <th>1455</th>\n",
              "      <td>7917</td>\n",
              "      <td>6</td>\n",
              "      <td>5</td>\n",
              "      <td>953</td>\n",
              "      <td>2</td>\n",
              "      <td>1</td>\n",
              "      <td>3</td>\n",
              "      <td>7</td>\n",
              "      <td>1</td>\n",
              "      <td>460</td>\n",
              "      <td>1</td>\n",
              "    </tr>\n",
              "    <tr>\n",
              "      <th>1456</th>\n",
              "      <td>13175</td>\n",
              "      <td>6</td>\n",
              "      <td>6</td>\n",
              "      <td>1542</td>\n",
              "      <td>2</td>\n",
              "      <td>0</td>\n",
              "      <td>3</td>\n",
              "      <td>7</td>\n",
              "      <td>2</td>\n",
              "      <td>500</td>\n",
              "      <td>1</td>\n",
              "    </tr>\n",
              "    <tr>\n",
              "      <th>1457</th>\n",
              "      <td>9042</td>\n",
              "      <td>7</td>\n",
              "      <td>9</td>\n",
              "      <td>1152</td>\n",
              "      <td>2</td>\n",
              "      <td>0</td>\n",
              "      <td>4</td>\n",
              "      <td>9</td>\n",
              "      <td>2</td>\n",
              "      <td>252</td>\n",
              "      <td>1</td>\n",
              "    </tr>\n",
              "    <tr>\n",
              "      <th>1458</th>\n",
              "      <td>9717</td>\n",
              "      <td>5</td>\n",
              "      <td>6</td>\n",
              "      <td>1078</td>\n",
              "      <td>1</td>\n",
              "      <td>0</td>\n",
              "      <td>2</td>\n",
              "      <td>5</td>\n",
              "      <td>0</td>\n",
              "      <td>240</td>\n",
              "      <td>0</td>\n",
              "    </tr>\n",
              "    <tr>\n",
              "      <th>1459</th>\n",
              "      <td>9937</td>\n",
              "      <td>5</td>\n",
              "      <td>6</td>\n",
              "      <td>1256</td>\n",
              "      <td>1</td>\n",
              "      <td>1</td>\n",
              "      <td>3</td>\n",
              "      <td>6</td>\n",
              "      <td>0</td>\n",
              "      <td>276</td>\n",
              "      <td>0</td>\n",
              "    </tr>\n",
              "  </tbody>\n",
              "</table>\n",
              "<p>1460 rows × 11 columns</p>\n",
              "</div>\n",
              "    <div class=\"colab-df-buttons\">\n",
              "\n",
              "  <div class=\"colab-df-container\">\n",
              "    <button class=\"colab-df-convert\" onclick=\"convertToInteractive('df-d3407ae5-f766-4423-859b-6dde09e5d629')\"\n",
              "            title=\"Convert this dataframe to an interactive table.\"\n",
              "            style=\"display:none;\">\n",
              "\n",
              "  <svg xmlns=\"http://www.w3.org/2000/svg\" height=\"24px\" viewBox=\"0 -960 960 960\">\n",
              "    <path d=\"M120-120v-720h720v720H120Zm60-500h600v-160H180v160Zm220 220h160v-160H400v160Zm0 220h160v-160H400v160ZM180-400h160v-160H180v160Zm440 0h160v-160H620v160ZM180-180h160v-160H180v160Zm440 0h160v-160H620v160Z\"/>\n",
              "  </svg>\n",
              "    </button>\n",
              "\n",
              "  <style>\n",
              "    .colab-df-container {\n",
              "      display:flex;\n",
              "      gap: 12px;\n",
              "    }\n",
              "\n",
              "    .colab-df-convert {\n",
              "      background-color: #E8F0FE;\n",
              "      border: none;\n",
              "      border-radius: 50%;\n",
              "      cursor: pointer;\n",
              "      display: none;\n",
              "      fill: #1967D2;\n",
              "      height: 32px;\n",
              "      padding: 0 0 0 0;\n",
              "      width: 32px;\n",
              "    }\n",
              "\n",
              "    .colab-df-convert:hover {\n",
              "      background-color: #E2EBFA;\n",
              "      box-shadow: 0px 1px 2px rgba(60, 64, 67, 0.3), 0px 1px 3px 1px rgba(60, 64, 67, 0.15);\n",
              "      fill: #174EA6;\n",
              "    }\n",
              "\n",
              "    .colab-df-buttons div {\n",
              "      margin-bottom: 4px;\n",
              "    }\n",
              "\n",
              "    [theme=dark] .colab-df-convert {\n",
              "      background-color: #3B4455;\n",
              "      fill: #D2E3FC;\n",
              "    }\n",
              "\n",
              "    [theme=dark] .colab-df-convert:hover {\n",
              "      background-color: #434B5C;\n",
              "      box-shadow: 0px 1px 3px 1px rgba(0, 0, 0, 0.15);\n",
              "      filter: drop-shadow(0px 1px 2px rgba(0, 0, 0, 0.3));\n",
              "      fill: #FFFFFF;\n",
              "    }\n",
              "  </style>\n",
              "\n",
              "    <script>\n",
              "      const buttonEl =\n",
              "        document.querySelector('#df-d3407ae5-f766-4423-859b-6dde09e5d629 button.colab-df-convert');\n",
              "      buttonEl.style.display =\n",
              "        google.colab.kernel.accessAllowed ? 'block' : 'none';\n",
              "\n",
              "      async function convertToInteractive(key) {\n",
              "        const element = document.querySelector('#df-d3407ae5-f766-4423-859b-6dde09e5d629');\n",
              "        const dataTable =\n",
              "          await google.colab.kernel.invokeFunction('convertToInteractive',\n",
              "                                                    [key], {});\n",
              "        if (!dataTable) return;\n",
              "\n",
              "        const docLinkHtml = 'Like what you see? Visit the ' +\n",
              "          '<a target=\"_blank\" href=https://colab.research.google.com/notebooks/data_table.ipynb>data table notebook</a>'\n",
              "          + ' to learn more about interactive tables.';\n",
              "        element.innerHTML = '';\n",
              "        dataTable['output_type'] = 'display_data';\n",
              "        await google.colab.output.renderOutput(dataTable, element);\n",
              "        const docLink = document.createElement('div');\n",
              "        docLink.innerHTML = docLinkHtml;\n",
              "        element.appendChild(docLink);\n",
              "      }\n",
              "    </script>\n",
              "  </div>\n",
              "\n",
              "\n",
              "<div id=\"df-f556eb0a-b7b7-484a-ac20-eff18177c291\">\n",
              "  <button class=\"colab-df-quickchart\" onclick=\"quickchart('df-f556eb0a-b7b7-484a-ac20-eff18177c291')\"\n",
              "            title=\"Suggest charts\"\n",
              "            style=\"display:none;\">\n",
              "\n",
              "<svg xmlns=\"http://www.w3.org/2000/svg\" height=\"24px\"viewBox=\"0 0 24 24\"\n",
              "     width=\"24px\">\n",
              "    <g>\n",
              "        <path d=\"M19 3H5c-1.1 0-2 .9-2 2v14c0 1.1.9 2 2 2h14c1.1 0 2-.9 2-2V5c0-1.1-.9-2-2-2zM9 17H7v-7h2v7zm4 0h-2V7h2v10zm4 0h-2v-4h2v4z\"/>\n",
              "    </g>\n",
              "</svg>\n",
              "  </button>\n",
              "\n",
              "<style>\n",
              "  .colab-df-quickchart {\n",
              "      --bg-color: #E8F0FE;\n",
              "      --fill-color: #1967D2;\n",
              "      --hover-bg-color: #E2EBFA;\n",
              "      --hover-fill-color: #174EA6;\n",
              "      --disabled-fill-color: #AAA;\n",
              "      --disabled-bg-color: #DDD;\n",
              "  }\n",
              "\n",
              "  [theme=dark] .colab-df-quickchart {\n",
              "      --bg-color: #3B4455;\n",
              "      --fill-color: #D2E3FC;\n",
              "      --hover-bg-color: #434B5C;\n",
              "      --hover-fill-color: #FFFFFF;\n",
              "      --disabled-bg-color: #3B4455;\n",
              "      --disabled-fill-color: #666;\n",
              "  }\n",
              "\n",
              "  .colab-df-quickchart {\n",
              "    background-color: var(--bg-color);\n",
              "    border: none;\n",
              "    border-radius: 50%;\n",
              "    cursor: pointer;\n",
              "    display: none;\n",
              "    fill: var(--fill-color);\n",
              "    height: 32px;\n",
              "    padding: 0;\n",
              "    width: 32px;\n",
              "  }\n",
              "\n",
              "  .colab-df-quickchart:hover {\n",
              "    background-color: var(--hover-bg-color);\n",
              "    box-shadow: 0 1px 2px rgba(60, 64, 67, 0.3), 0 1px 3px 1px rgba(60, 64, 67, 0.15);\n",
              "    fill: var(--button-hover-fill-color);\n",
              "  }\n",
              "\n",
              "  .colab-df-quickchart-complete:disabled,\n",
              "  .colab-df-quickchart-complete:disabled:hover {\n",
              "    background-color: var(--disabled-bg-color);\n",
              "    fill: var(--disabled-fill-color);\n",
              "    box-shadow: none;\n",
              "  }\n",
              "\n",
              "  .colab-df-spinner {\n",
              "    border: 2px solid var(--fill-color);\n",
              "    border-color: transparent;\n",
              "    border-bottom-color: var(--fill-color);\n",
              "    animation:\n",
              "      spin 1s steps(1) infinite;\n",
              "  }\n",
              "\n",
              "  @keyframes spin {\n",
              "    0% {\n",
              "      border-color: transparent;\n",
              "      border-bottom-color: var(--fill-color);\n",
              "      border-left-color: var(--fill-color);\n",
              "    }\n",
              "    20% {\n",
              "      border-color: transparent;\n",
              "      border-left-color: var(--fill-color);\n",
              "      border-top-color: var(--fill-color);\n",
              "    }\n",
              "    30% {\n",
              "      border-color: transparent;\n",
              "      border-left-color: var(--fill-color);\n",
              "      border-top-color: var(--fill-color);\n",
              "      border-right-color: var(--fill-color);\n",
              "    }\n",
              "    40% {\n",
              "      border-color: transparent;\n",
              "      border-right-color: var(--fill-color);\n",
              "      border-top-color: var(--fill-color);\n",
              "    }\n",
              "    60% {\n",
              "      border-color: transparent;\n",
              "      border-right-color: var(--fill-color);\n",
              "    }\n",
              "    80% {\n",
              "      border-color: transparent;\n",
              "      border-right-color: var(--fill-color);\n",
              "      border-bottom-color: var(--fill-color);\n",
              "    }\n",
              "    90% {\n",
              "      border-color: transparent;\n",
              "      border-bottom-color: var(--fill-color);\n",
              "    }\n",
              "  }\n",
              "</style>\n",
              "\n",
              "  <script>\n",
              "    async function quickchart(key) {\n",
              "      const quickchartButtonEl =\n",
              "        document.querySelector('#' + key + ' button');\n",
              "      quickchartButtonEl.disabled = true;  // To prevent multiple clicks.\n",
              "      quickchartButtonEl.classList.add('colab-df-spinner');\n",
              "      try {\n",
              "        const charts = await google.colab.kernel.invokeFunction(\n",
              "            'suggestCharts', [key], {});\n",
              "      } catch (error) {\n",
              "        console.error('Error during call to suggestCharts:', error);\n",
              "      }\n",
              "      quickchartButtonEl.classList.remove('colab-df-spinner');\n",
              "      quickchartButtonEl.classList.add('colab-df-quickchart-complete');\n",
              "    }\n",
              "    (() => {\n",
              "      let quickchartButtonEl =\n",
              "        document.querySelector('#df-f556eb0a-b7b7-484a-ac20-eff18177c291 button');\n",
              "      quickchartButtonEl.style.display =\n",
              "        google.colab.kernel.accessAllowed ? 'block' : 'none';\n",
              "    })();\n",
              "  </script>\n",
              "</div>\n",
              "\n",
              "  <div id=\"id_27f77898-c56c-413c-bdc6-1f42ee8a1608\">\n",
              "    <style>\n",
              "      .colab-df-generate {\n",
              "        background-color: #E8F0FE;\n",
              "        border: none;\n",
              "        border-radius: 50%;\n",
              "        cursor: pointer;\n",
              "        display: none;\n",
              "        fill: #1967D2;\n",
              "        height: 32px;\n",
              "        padding: 0 0 0 0;\n",
              "        width: 32px;\n",
              "      }\n",
              "\n",
              "      .colab-df-generate:hover {\n",
              "        background-color: #E2EBFA;\n",
              "        box-shadow: 0px 1px 2px rgba(60, 64, 67, 0.3), 0px 1px 3px 1px rgba(60, 64, 67, 0.15);\n",
              "        fill: #174EA6;\n",
              "      }\n",
              "\n",
              "      [theme=dark] .colab-df-generate {\n",
              "        background-color: #3B4455;\n",
              "        fill: #D2E3FC;\n",
              "      }\n",
              "\n",
              "      [theme=dark] .colab-df-generate:hover {\n",
              "        background-color: #434B5C;\n",
              "        box-shadow: 0px 1px 3px 1px rgba(0, 0, 0, 0.15);\n",
              "        filter: drop-shadow(0px 1px 2px rgba(0, 0, 0, 0.3));\n",
              "        fill: #FFFFFF;\n",
              "      }\n",
              "    </style>\n",
              "    <button class=\"colab-df-generate\" onclick=\"generateWithVariable('df')\"\n",
              "            title=\"Generate code using this dataframe.\"\n",
              "            style=\"display:none;\">\n",
              "\n",
              "  <svg xmlns=\"http://www.w3.org/2000/svg\" height=\"24px\"viewBox=\"0 0 24 24\"\n",
              "       width=\"24px\">\n",
              "    <path d=\"M7,19H8.4L18.45,9,17,7.55,7,17.6ZM5,21V16.75L18.45,3.32a2,2,0,0,1,2.83,0l1.4,1.43a1.91,1.91,0,0,1,.58,1.4,1.91,1.91,0,0,1-.58,1.4L9.25,21ZM18.45,9,17,7.55Zm-12,3A5.31,5.31,0,0,0,4.9,8.1,5.31,5.31,0,0,0,1,6.5,5.31,5.31,0,0,0,4.9,4.9,5.31,5.31,0,0,0,6.5,1,5.31,5.31,0,0,0,8.1,4.9,5.31,5.31,0,0,0,12,6.5,5.46,5.46,0,0,0,6.5,12Z\"/>\n",
              "  </svg>\n",
              "    </button>\n",
              "    <script>\n",
              "      (() => {\n",
              "      const buttonEl =\n",
              "        document.querySelector('#id_27f77898-c56c-413c-bdc6-1f42ee8a1608 button.colab-df-generate');\n",
              "      buttonEl.style.display =\n",
              "        google.colab.kernel.accessAllowed ? 'block' : 'none';\n",
              "\n",
              "      buttonEl.onclick = () => {\n",
              "        google.colab.notebook.generateWithVariable('df');\n",
              "      }\n",
              "      })();\n",
              "    </script>\n",
              "  </div>\n",
              "\n",
              "    </div>\n",
              "  </div>\n"
            ],
            "application/vnd.google.colaboratory.intrinsic+json": {
              "type": "dataframe",
              "variable_name": "df",
              "summary": "{\n  \"name\": \"df\",\n  \"rows\": 1460,\n  \"fields\": [\n    {\n      \"column\": \"LotArea\",\n      \"properties\": {\n        \"dtype\": \"number\",\n        \"std\": 9981,\n        \"min\": 1300,\n        \"max\": 215245,\n        \"num_unique_values\": 1073,\n        \"samples\": [\n          10186,\n          8163,\n          8854\n        ],\n        \"semantic_type\": \"\",\n        \"description\": \"\"\n      }\n    },\n    {\n      \"column\": \"OverallQual\",\n      \"properties\": {\n        \"dtype\": \"number\",\n        \"std\": 1,\n        \"min\": 1,\n        \"max\": 10,\n        \"num_unique_values\": 10,\n        \"samples\": [\n          1,\n          6,\n          4\n        ],\n        \"semantic_type\": \"\",\n        \"description\": \"\"\n      }\n    },\n    {\n      \"column\": \"OverallCond\",\n      \"properties\": {\n        \"dtype\": \"number\",\n        \"std\": 1,\n        \"min\": 1,\n        \"max\": 9,\n        \"num_unique_values\": 9,\n        \"samples\": [\n          9,\n          8,\n          2\n        ],\n        \"semantic_type\": \"\",\n        \"description\": \"\"\n      }\n    },\n    {\n      \"column\": \"TotalBsmtSF\",\n      \"properties\": {\n        \"dtype\": \"number\",\n        \"std\": 438,\n        \"min\": 0,\n        \"max\": 6110,\n        \"num_unique_values\": 721,\n        \"samples\": [\n          1536,\n          1192,\n          684\n        ],\n        \"semantic_type\": \"\",\n        \"description\": \"\"\n      }\n    },\n    {\n      \"column\": \"FullBath\",\n      \"properties\": {\n        \"dtype\": \"number\",\n        \"std\": 0,\n        \"min\": 0,\n        \"max\": 3,\n        \"num_unique_values\": 4,\n        \"samples\": [\n          1,\n          0,\n          2\n        ],\n        \"semantic_type\": \"\",\n        \"description\": \"\"\n      }\n    },\n    {\n      \"column\": \"HalfBath\",\n      \"properties\": {\n        \"dtype\": \"number\",\n        \"std\": 0,\n        \"min\": 0,\n        \"max\": 2,\n        \"num_unique_values\": 3,\n        \"samples\": [\n          1,\n          0,\n          2\n        ],\n        \"semantic_type\": \"\",\n        \"description\": \"\"\n      }\n    },\n    {\n      \"column\": \"BedroomAbvGr\",\n      \"properties\": {\n        \"dtype\": \"number\",\n        \"std\": 0,\n        \"min\": 0,\n        \"max\": 8,\n        \"num_unique_values\": 8,\n        \"samples\": [\n          4,\n          5,\n          3\n        ],\n        \"semantic_type\": \"\",\n        \"description\": \"\"\n      }\n    },\n    {\n      \"column\": \"TotRmsAbvGrd\",\n      \"properties\": {\n        \"dtype\": \"number\",\n        \"std\": 1,\n        \"min\": 2,\n        \"max\": 14,\n        \"num_unique_values\": 12,\n        \"samples\": [\n          2,\n          3,\n          8\n        ],\n        \"semantic_type\": \"\",\n        \"description\": \"\"\n      }\n    },\n    {\n      \"column\": \"Fireplaces\",\n      \"properties\": {\n        \"dtype\": \"number\",\n        \"std\": 0,\n        \"min\": 0,\n        \"max\": 3,\n        \"num_unique_values\": 4,\n        \"samples\": [\n          1,\n          3,\n          0\n        ],\n        \"semantic_type\": \"\",\n        \"description\": \"\"\n      }\n    },\n    {\n      \"column\": \"GarageArea\",\n      \"properties\": {\n        \"dtype\": \"number\",\n        \"std\": 213,\n        \"min\": 0,\n        \"max\": 1418,\n        \"num_unique_values\": 441,\n        \"samples\": [\n          792,\n          923,\n          868\n        ],\n        \"semantic_type\": \"\",\n        \"description\": \"\"\n      }\n    },\n    {\n      \"column\": \"AboveMedianPrice\",\n      \"properties\": {\n        \"dtype\": \"number\",\n        \"std\": 0,\n        \"min\": 0,\n        \"max\": 1,\n        \"num_unique_values\": 2,\n        \"samples\": [\n          0,\n          1\n        ],\n        \"semantic_type\": \"\",\n        \"description\": \"\"\n      }\n    }\n  ]\n}"
            }
          },
          "metadata": {},
          "execution_count": 14
        }
      ],
      "source": [
        "df"
      ]
    },
    {
      "cell_type": "markdown",
      "metadata": {
        "id": "cmUY1CU0LZfU"
      },
      "source": [
        "The dataset that we have now is in what we call a pandas dataframe. To convert it to an array, simply access its values:"
      ]
    },
    {
      "cell_type": "code",
      "execution_count": 10,
      "metadata": {
        "id": "XXoDIO6-LZfV"
      },
      "outputs": [],
      "source": [
        "dataset = df.values"
      ]
    },
    {
      "cell_type": "code",
      "execution_count": 11,
      "metadata": {
        "colab": {
          "base_uri": "https://localhost:8080/"
        },
        "id": "ALPcoewlLZfV",
        "outputId": "17bfd911-3645-4615-8e77-1674567e931f"
      },
      "outputs": [
        {
          "output_type": "execute_result",
          "data": {
            "text/plain": [
              "array([[ 8450,     7,     5, ...,     0,   548,     1],\n",
              "       [ 9600,     6,     8, ...,     1,   460,     1],\n",
              "       [11250,     7,     5, ...,     1,   608,     1],\n",
              "       ...,\n",
              "       [ 9042,     7,     9, ...,     2,   252,     1],\n",
              "       [ 9717,     5,     6, ...,     0,   240,     0],\n",
              "       [ 9937,     5,     6, ...,     0,   276,     0]])"
            ]
          },
          "metadata": {},
          "execution_count": 11
        }
      ],
      "source": [
        "dataset"
      ]
    },
    {
      "cell_type": "markdown",
      "metadata": {
        "id": "ftTK5mkpLZfV"
      },
      "source": [
        "Now, we split the dataset into our input features and the label we wish to predict."
      ]
    },
    {
      "cell_type": "code",
      "execution_count": 12,
      "metadata": {
        "id": "hVJTvjW0LZfV"
      },
      "outputs": [],
      "source": [
        "X = dataset[:,0:10]\n",
        "Y = dataset[:,10]"
      ]
    },
    {
      "cell_type": "markdown",
      "metadata": {
        "id": "jmCng9rJLZfW"
      },
      "source": [
        "Normalizing our data is very important, as we want the input features to be on the same order of magnitude to make our training easier. We'll use a min-max scaler from scikit-learn which scales our data to be between 0 and 1."
      ]
    },
    {
      "cell_type": "code",
      "execution_count": 13,
      "metadata": {
        "id": "y0TS-8ORLZfW"
      },
      "outputs": [],
      "source": [
        "from sklearn import preprocessing"
      ]
    },
    {
      "cell_type": "code",
      "execution_count": 14,
      "metadata": {
        "id": "Fq_zEUbiLZfW"
      },
      "outputs": [],
      "source": [
        "min_max_scaler = preprocessing.MinMaxScaler()\n",
        "X_scale = min_max_scaler.fit_transform(X)"
      ]
    },
    {
      "cell_type": "code",
      "execution_count": 15,
      "metadata": {
        "colab": {
          "base_uri": "https://localhost:8080/"
        },
        "id": "0mPG0XG6LZfX",
        "outputId": "a43d11a3-cf92-4cf2-b958-b6526c28c2cc"
      },
      "outputs": [
        {
          "output_type": "execute_result",
          "data": {
            "text/plain": [
              "array([[0.0334198 , 0.66666667, 0.5       , ..., 0.5       , 0.        ,\n",
              "        0.3864598 ],\n",
              "       [0.03879502, 0.55555556, 0.875     , ..., 0.33333333, 0.33333333,\n",
              "        0.32440056],\n",
              "       [0.04650728, 0.66666667, 0.5       , ..., 0.33333333, 0.33333333,\n",
              "        0.42877292],\n",
              "       ...,\n",
              "       [0.03618687, 0.66666667, 1.        , ..., 0.58333333, 0.66666667,\n",
              "        0.17771509],\n",
              "       [0.03934189, 0.44444444, 0.625     , ..., 0.25      , 0.        ,\n",
              "        0.16925247],\n",
              "       [0.04037019, 0.44444444, 0.625     , ..., 0.33333333, 0.        ,\n",
              "        0.19464034]])"
            ]
          },
          "metadata": {},
          "execution_count": 15
        }
      ],
      "source": [
        "X_scale"
      ]
    },
    {
      "cell_type": "markdown",
      "metadata": {
        "id": "v2dwbJWILZfX"
      },
      "source": [
        "Lastly, we wish to set aside some parts of our dataset for a validation set and a test set. We use the function train_test_split from scikit-learn to do that."
      ]
    },
    {
      "cell_type": "code",
      "execution_count": 16,
      "metadata": {
        "id": "KvmIa5SxLZfX"
      },
      "outputs": [],
      "source": [
        "from sklearn.model_selection import train_test_split"
      ]
    },
    {
      "cell_type": "code",
      "execution_count": 17,
      "metadata": {
        "id": "g7FGTrJrLZfX"
      },
      "outputs": [],
      "source": [
        "X_train, X_val_and_test, Y_train, Y_val_and_test = train_test_split(X_scale, Y, test_size=0.3)"
      ]
    },
    {
      "cell_type": "code",
      "execution_count": 18,
      "metadata": {
        "id": "q8yjyYJ3LZfX"
      },
      "outputs": [],
      "source": [
        "X_val, X_test, Y_val, Y_test = train_test_split(X_val_and_test, Y_val_and_test, test_size=0.5)"
      ]
    },
    {
      "cell_type": "code",
      "execution_count": 19,
      "metadata": {
        "colab": {
          "base_uri": "https://localhost:8080/"
        },
        "id": "h_etHShfLZfY",
        "outputId": "69ce7c16-c89c-42fa-c289-c6bdd8e79ba7"
      },
      "outputs": [
        {
          "output_type": "stream",
          "name": "stdout",
          "text": [
            "(1022, 10) (219, 10) (219, 10) (1022,) (219,) (219,)\n"
          ]
        }
      ],
      "source": [
        "print(X_train.shape, X_val.shape, X_test.shape, Y_train.shape, Y_val.shape, Y_test.shape)"
      ]
    },
    {
      "cell_type": "markdown",
      "metadata": {
        "id": "AfnQI9RvLZfY"
      },
      "source": [
        "# Building and Training Our First Neural Network"
      ]
    },
    {
      "cell_type": "markdown",
      "metadata": {
        "id": "2n3rLSHmLZfY"
      },
      "source": [
        "We will be using Keras to build our architecture. Let's import the code from Keras that we will need to use:"
      ]
    },
    {
      "cell_type": "code",
      "execution_count": 20,
      "metadata": {
        "id": "H03kgQzaLZfY"
      },
      "outputs": [],
      "source": [
        "from keras.models import Sequential\n",
        "from keras.layers import Dense"
      ]
    },
    {
      "cell_type": "markdown",
      "metadata": {
        "id": "hKlpDUz8LZfZ"
      },
      "source": [
        "We will be using the Sequential model, which means that we merely need to describe the layers above in sequence. Our neural network has three layers:\n",
        "\n",
        "- Hidden layer 1: 30 neurons, ReLU activation\n",
        "- Hidden layer 2: 30 neurons, ReLU activation\n",
        "- Output Layer: 1 neuron, Sigmoid activation"
      ]
    },
    {
      "cell_type": "code",
      "execution_count": 21,
      "metadata": {
        "id": "jgHuW8hvLZfZ"
      },
      "outputs": [],
      "source": [
        "model = Sequential([\n",
        "    Dense(32, activation='relu', input_shape=(10,)),\n",
        "    Dense(32, activation='relu'),\n",
        "    Dense(1, activation='sigmoid'),\n",
        "])"
      ]
    },
    {
      "cell_type": "markdown",
      "metadata": {
        "id": "weYJwPU0LZfZ"
      },
      "source": [
        "Now that we've got our architecture specified, we need to find the best numbers for it. Before we start our training, we have to configure the model by\n",
        "- Telling it what algorithm you want to use to do the optimization (we'll use stochastic gradient descent)\n",
        "- Telling it what loss function to use (for binary classification, we will use binary cross entropy)\n",
        "- Telling it what other metrics you want to track apart from the loss function (we want to track accuracy as well)\n",
        "\n",
        "We do so below:"
      ]
    },
    {
      "cell_type": "code",
      "execution_count": 22,
      "metadata": {
        "id": "9JvYy75jLZfZ"
      },
      "outputs": [],
      "source": [
        "model.compile(optimizer='sgd',\n",
        "              loss='binary_crossentropy',\n",
        "              metrics=['accuracy'])"
      ]
    },
    {
      "cell_type": "markdown",
      "metadata": {
        "id": "6vhns-udLZfZ"
      },
      "source": [
        "Training on the data is pretty straightforward and requires us to write one line of code. The function is called 'fit' as we are fitting the parameters to the data. We specify:\n",
        "- what data we are training on, which is X_train and Y_train\n",
        "- the size of our mini-batch\n",
        "- how long we want to train it for (epochs)\n",
        "- what our validation data is so that the model will tell us how we are doing on the validation data at each point.\n",
        "\n",
        "This function will output a history, which we save under the variable hist. We'll use this variable a little later."
      ]
    },
    {
      "cell_type": "code",
      "execution_count": 23,
      "metadata": {
        "colab": {
          "base_uri": "https://localhost:8080/"
        },
        "id": "3szBjXDhLZfa",
        "outputId": "29aedf59-d77e-4896-86cb-9ecfb8fd57ed"
      },
      "outputs": [
        {
          "output_type": "stream",
          "name": "stdout",
          "text": [
            "Epoch 1/100\n",
            "32/32 [==============================] - 1s 11ms/step - loss: 0.6994 - accuracy: 0.5235 - val_loss: 0.6922 - val_accuracy: 0.5845\n",
            "Epoch 2/100\n",
            "32/32 [==============================] - 0s 4ms/step - loss: 0.6810 - accuracy: 0.6497 - val_loss: 0.6834 - val_accuracy: 0.5799\n",
            "Epoch 3/100\n",
            "32/32 [==============================] - 0s 4ms/step - loss: 0.6700 - accuracy: 0.5910 - val_loss: 0.6771 - val_accuracy: 0.6119\n",
            "Epoch 4/100\n",
            "32/32 [==============================] - 0s 4ms/step - loss: 0.6611 - accuracy: 0.6507 - val_loss: 0.6716 - val_accuracy: 0.5982\n",
            "Epoch 5/100\n",
            "32/32 [==============================] - 0s 5ms/step - loss: 0.6536 - accuracy: 0.6693 - val_loss: 0.6664 - val_accuracy: 0.6393\n",
            "Epoch 6/100\n",
            "32/32 [==============================] - 0s 4ms/step - loss: 0.6464 - accuracy: 0.7221 - val_loss: 0.6612 - val_accuracy: 0.6530\n",
            "Epoch 7/100\n",
            "32/32 [==============================] - 0s 4ms/step - loss: 0.6396 - accuracy: 0.7241 - val_loss: 0.6557 - val_accuracy: 0.6621\n",
            "Epoch 8/100\n",
            "32/32 [==============================] - 0s 3ms/step - loss: 0.6323 - accuracy: 0.7632 - val_loss: 0.6503 - val_accuracy: 0.6804\n",
            "Epoch 9/100\n",
            "32/32 [==============================] - 0s 3ms/step - loss: 0.6251 - accuracy: 0.7740 - val_loss: 0.6448 - val_accuracy: 0.6895\n",
            "Epoch 10/100\n",
            "32/32 [==============================] - 0s 4ms/step - loss: 0.6174 - accuracy: 0.7828 - val_loss: 0.6389 - val_accuracy: 0.7032\n",
            "Epoch 11/100\n",
            "32/32 [==============================] - 0s 4ms/step - loss: 0.6096 - accuracy: 0.7877 - val_loss: 0.6325 - val_accuracy: 0.7169\n",
            "Epoch 12/100\n",
            "32/32 [==============================] - 0s 4ms/step - loss: 0.6014 - accuracy: 0.7906 - val_loss: 0.6259 - val_accuracy: 0.7078\n",
            "Epoch 13/100\n",
            "32/32 [==============================] - 0s 4ms/step - loss: 0.5929 - accuracy: 0.8014 - val_loss: 0.6190 - val_accuracy: 0.7078\n",
            "Epoch 14/100\n",
            "32/32 [==============================] - 0s 4ms/step - loss: 0.5834 - accuracy: 0.8053 - val_loss: 0.6110 - val_accuracy: 0.7397\n",
            "Epoch 15/100\n",
            "32/32 [==============================] - 0s 4ms/step - loss: 0.5730 - accuracy: 0.8121 - val_loss: 0.6028 - val_accuracy: 0.7443\n",
            "Epoch 16/100\n",
            "32/32 [==============================] - 0s 4ms/step - loss: 0.5624 - accuracy: 0.8151 - val_loss: 0.5950 - val_accuracy: 0.7489\n",
            "Epoch 17/100\n",
            "32/32 [==============================] - 0s 3ms/step - loss: 0.5522 - accuracy: 0.8200 - val_loss: 0.5874 - val_accuracy: 0.7580\n",
            "Epoch 18/100\n",
            "32/32 [==============================] - 0s 4ms/step - loss: 0.5422 - accuracy: 0.8268 - val_loss: 0.5798 - val_accuracy: 0.7763\n",
            "Epoch 19/100\n",
            "32/32 [==============================] - 0s 4ms/step - loss: 0.5323 - accuracy: 0.8297 - val_loss: 0.5724 - val_accuracy: 0.7763\n",
            "Epoch 20/100\n",
            "32/32 [==============================] - 0s 3ms/step - loss: 0.5222 - accuracy: 0.8356 - val_loss: 0.5647 - val_accuracy: 0.7808\n",
            "Epoch 21/100\n",
            "32/32 [==============================] - 0s 4ms/step - loss: 0.5120 - accuracy: 0.8425 - val_loss: 0.5573 - val_accuracy: 0.7808\n",
            "Epoch 22/100\n",
            "32/32 [==============================] - 0s 4ms/step - loss: 0.5018 - accuracy: 0.8474 - val_loss: 0.5498 - val_accuracy: 0.7854\n",
            "Epoch 23/100\n",
            "32/32 [==============================] - 0s 4ms/step - loss: 0.4918 - accuracy: 0.8464 - val_loss: 0.5423 - val_accuracy: 0.7854\n",
            "Epoch 24/100\n",
            "32/32 [==============================] - 0s 4ms/step - loss: 0.4818 - accuracy: 0.8503 - val_loss: 0.5349 - val_accuracy: 0.7854\n",
            "Epoch 25/100\n",
            "32/32 [==============================] - 0s 3ms/step - loss: 0.4715 - accuracy: 0.8513 - val_loss: 0.5280 - val_accuracy: 0.7900\n",
            "Epoch 26/100\n",
            "32/32 [==============================] - 0s 4ms/step - loss: 0.4616 - accuracy: 0.8532 - val_loss: 0.5207 - val_accuracy: 0.7900\n",
            "Epoch 27/100\n",
            "32/32 [==============================] - 0s 4ms/step - loss: 0.4520 - accuracy: 0.8591 - val_loss: 0.5139 - val_accuracy: 0.7900\n",
            "Epoch 28/100\n",
            "32/32 [==============================] - 0s 3ms/step - loss: 0.4418 - accuracy: 0.8591 - val_loss: 0.5078 - val_accuracy: 0.7763\n",
            "Epoch 29/100\n",
            "32/32 [==============================] - 0s 3ms/step - loss: 0.4336 - accuracy: 0.8611 - val_loss: 0.5008 - val_accuracy: 0.7854\n",
            "Epoch 30/100\n",
            "32/32 [==============================] - 0s 4ms/step - loss: 0.4244 - accuracy: 0.8630 - val_loss: 0.4948 - val_accuracy: 0.7991\n",
            "Epoch 31/100\n",
            "32/32 [==============================] - 0s 3ms/step - loss: 0.4160 - accuracy: 0.8659 - val_loss: 0.4888 - val_accuracy: 0.7854\n",
            "Epoch 32/100\n",
            "32/32 [==============================] - 0s 3ms/step - loss: 0.4076 - accuracy: 0.8679 - val_loss: 0.4833 - val_accuracy: 0.7900\n",
            "Epoch 33/100\n",
            "32/32 [==============================] - 0s 3ms/step - loss: 0.3997 - accuracy: 0.8699 - val_loss: 0.4782 - val_accuracy: 0.7991\n",
            "Epoch 34/100\n",
            "32/32 [==============================] - 0s 4ms/step - loss: 0.3922 - accuracy: 0.8718 - val_loss: 0.4730 - val_accuracy: 0.7945\n",
            "Epoch 35/100\n",
            "32/32 [==============================] - 0s 3ms/step - loss: 0.3850 - accuracy: 0.8699 - val_loss: 0.4684 - val_accuracy: 0.7900\n",
            "Epoch 36/100\n",
            "32/32 [==============================] - 0s 3ms/step - loss: 0.3785 - accuracy: 0.8757 - val_loss: 0.4640 - val_accuracy: 0.7991\n",
            "Epoch 37/100\n",
            "32/32 [==============================] - 0s 3ms/step - loss: 0.3720 - accuracy: 0.8787 - val_loss: 0.4598 - val_accuracy: 0.7900\n",
            "Epoch 38/100\n",
            "32/32 [==============================] - 0s 3ms/step - loss: 0.3663 - accuracy: 0.8787 - val_loss: 0.4559 - val_accuracy: 0.7945\n",
            "Epoch 39/100\n",
            "32/32 [==============================] - 0s 4ms/step - loss: 0.3603 - accuracy: 0.8787 - val_loss: 0.4522 - val_accuracy: 0.7991\n",
            "Epoch 40/100\n",
            "32/32 [==============================] - 0s 3ms/step - loss: 0.3548 - accuracy: 0.8865 - val_loss: 0.4489 - val_accuracy: 0.7945\n",
            "Epoch 41/100\n",
            "32/32 [==============================] - 0s 4ms/step - loss: 0.3501 - accuracy: 0.8816 - val_loss: 0.4455 - val_accuracy: 0.7991\n",
            "Epoch 42/100\n",
            "32/32 [==============================] - 0s 4ms/step - loss: 0.3450 - accuracy: 0.8796 - val_loss: 0.4423 - val_accuracy: 0.7991\n",
            "Epoch 43/100\n",
            "32/32 [==============================] - 0s 4ms/step - loss: 0.3402 - accuracy: 0.8845 - val_loss: 0.4395 - val_accuracy: 0.7945\n",
            "Epoch 44/100\n",
            "32/32 [==============================] - 0s 3ms/step - loss: 0.3364 - accuracy: 0.8845 - val_loss: 0.4366 - val_accuracy: 0.7945\n",
            "Epoch 45/100\n",
            "32/32 [==============================] - 0s 4ms/step - loss: 0.3315 - accuracy: 0.8875 - val_loss: 0.4341 - val_accuracy: 0.8082\n",
            "Epoch 46/100\n",
            "32/32 [==============================] - 0s 4ms/step - loss: 0.3281 - accuracy: 0.8885 - val_loss: 0.4321 - val_accuracy: 0.7900\n",
            "Epoch 47/100\n",
            "32/32 [==============================] - 0s 4ms/step - loss: 0.3250 - accuracy: 0.8894 - val_loss: 0.4290 - val_accuracy: 0.8037\n",
            "Epoch 48/100\n",
            "32/32 [==============================] - 0s 3ms/step - loss: 0.3215 - accuracy: 0.8885 - val_loss: 0.4268 - val_accuracy: 0.8037\n",
            "Epoch 49/100\n",
            "32/32 [==============================] - 0s 3ms/step - loss: 0.3183 - accuracy: 0.8904 - val_loss: 0.4247 - val_accuracy: 0.8037\n",
            "Epoch 50/100\n",
            "32/32 [==============================] - 0s 3ms/step - loss: 0.3152 - accuracy: 0.8914 - val_loss: 0.4228 - val_accuracy: 0.8128\n",
            "Epoch 51/100\n",
            "32/32 [==============================] - 0s 3ms/step - loss: 0.3128 - accuracy: 0.8933 - val_loss: 0.4209 - val_accuracy: 0.7991\n",
            "Epoch 52/100\n",
            "32/32 [==============================] - 0s 3ms/step - loss: 0.3103 - accuracy: 0.8914 - val_loss: 0.4191 - val_accuracy: 0.8082\n",
            "Epoch 53/100\n",
            "32/32 [==============================] - 0s 3ms/step - loss: 0.3073 - accuracy: 0.8914 - val_loss: 0.4182 - val_accuracy: 0.7991\n",
            "Epoch 54/100\n",
            "32/32 [==============================] - 0s 3ms/step - loss: 0.3051 - accuracy: 0.8885 - val_loss: 0.4158 - val_accuracy: 0.7991\n",
            "Epoch 55/100\n",
            "32/32 [==============================] - 0s 3ms/step - loss: 0.3022 - accuracy: 0.8894 - val_loss: 0.4144 - val_accuracy: 0.8037\n",
            "Epoch 56/100\n",
            "32/32 [==============================] - 0s 3ms/step - loss: 0.3008 - accuracy: 0.8924 - val_loss: 0.4127 - val_accuracy: 0.8037\n",
            "Epoch 57/100\n",
            "32/32 [==============================] - 0s 4ms/step - loss: 0.2984 - accuracy: 0.8943 - val_loss: 0.4114 - val_accuracy: 0.8037\n",
            "Epoch 58/100\n",
            "32/32 [==============================] - 0s 4ms/step - loss: 0.2969 - accuracy: 0.8924 - val_loss: 0.4102 - val_accuracy: 0.8082\n",
            "Epoch 59/100\n",
            "32/32 [==============================] - 0s 5ms/step - loss: 0.2951 - accuracy: 0.8924 - val_loss: 0.4094 - val_accuracy: 0.8082\n",
            "Epoch 60/100\n",
            "32/32 [==============================] - 0s 6ms/step - loss: 0.2933 - accuracy: 0.8894 - val_loss: 0.4077 - val_accuracy: 0.8037\n",
            "Epoch 61/100\n",
            "32/32 [==============================] - 0s 5ms/step - loss: 0.2917 - accuracy: 0.8933 - val_loss: 0.4072 - val_accuracy: 0.8128\n",
            "Epoch 62/100\n",
            "32/32 [==============================] - 0s 5ms/step - loss: 0.2900 - accuracy: 0.8933 - val_loss: 0.4053 - val_accuracy: 0.8128\n",
            "Epoch 63/100\n",
            "32/32 [==============================] - 0s 8ms/step - loss: 0.2884 - accuracy: 0.8953 - val_loss: 0.4043 - val_accuracy: 0.8082\n",
            "Epoch 64/100\n",
            "32/32 [==============================] - 0s 4ms/step - loss: 0.2875 - accuracy: 0.8933 - val_loss: 0.4038 - val_accuracy: 0.8128\n",
            "Epoch 65/100\n",
            "32/32 [==============================] - 0s 4ms/step - loss: 0.2864 - accuracy: 0.8914 - val_loss: 0.4024 - val_accuracy: 0.8037\n",
            "Epoch 66/100\n",
            "32/32 [==============================] - 0s 5ms/step - loss: 0.2845 - accuracy: 0.8963 - val_loss: 0.4018 - val_accuracy: 0.8128\n",
            "Epoch 67/100\n",
            "32/32 [==============================] - 0s 5ms/step - loss: 0.2832 - accuracy: 0.8933 - val_loss: 0.4012 - val_accuracy: 0.8037\n",
            "Epoch 68/100\n",
            "32/32 [==============================] - 0s 7ms/step - loss: 0.2830 - accuracy: 0.8963 - val_loss: 0.4002 - val_accuracy: 0.8174\n",
            "Epoch 69/100\n",
            "32/32 [==============================] - 0s 5ms/step - loss: 0.2815 - accuracy: 0.8943 - val_loss: 0.3991 - val_accuracy: 0.8082\n",
            "Epoch 70/100\n",
            "32/32 [==============================] - 0s 5ms/step - loss: 0.2802 - accuracy: 0.8953 - val_loss: 0.3992 - val_accuracy: 0.8174\n",
            "Epoch 71/100\n",
            "32/32 [==============================] - 0s 5ms/step - loss: 0.2795 - accuracy: 0.8963 - val_loss: 0.3976 - val_accuracy: 0.8037\n",
            "Epoch 72/100\n",
            "32/32 [==============================] - 0s 5ms/step - loss: 0.2785 - accuracy: 0.8963 - val_loss: 0.3967 - val_accuracy: 0.8037\n",
            "Epoch 73/100\n",
            "32/32 [==============================] - 0s 6ms/step - loss: 0.2771 - accuracy: 0.8914 - val_loss: 0.3962 - val_accuracy: 0.8082\n",
            "Epoch 74/100\n",
            "32/32 [==============================] - 0s 4ms/step - loss: 0.2771 - accuracy: 0.8963 - val_loss: 0.3961 - val_accuracy: 0.8219\n",
            "Epoch 75/100\n",
            "32/32 [==============================] - 0s 3ms/step - loss: 0.2757 - accuracy: 0.8992 - val_loss: 0.3945 - val_accuracy: 0.8037\n",
            "Epoch 76/100\n",
            "32/32 [==============================] - 0s 4ms/step - loss: 0.2752 - accuracy: 0.8973 - val_loss: 0.3939 - val_accuracy: 0.8037\n",
            "Epoch 77/100\n",
            "32/32 [==============================] - 0s 3ms/step - loss: 0.2745 - accuracy: 0.8943 - val_loss: 0.3932 - val_accuracy: 0.8037\n",
            "Epoch 78/100\n",
            "32/32 [==============================] - 0s 3ms/step - loss: 0.2729 - accuracy: 0.8963 - val_loss: 0.3941 - val_accuracy: 0.8219\n",
            "Epoch 79/100\n",
            "32/32 [==============================] - 0s 4ms/step - loss: 0.2731 - accuracy: 0.8973 - val_loss: 0.3919 - val_accuracy: 0.8128\n",
            "Epoch 80/100\n",
            "32/32 [==============================] - 0s 3ms/step - loss: 0.2719 - accuracy: 0.8982 - val_loss: 0.3914 - val_accuracy: 0.8128\n",
            "Epoch 81/100\n",
            "32/32 [==============================] - 0s 3ms/step - loss: 0.2712 - accuracy: 0.8992 - val_loss: 0.3908 - val_accuracy: 0.8082\n",
            "Epoch 82/100\n",
            "32/32 [==============================] - 0s 3ms/step - loss: 0.2704 - accuracy: 0.8943 - val_loss: 0.3903 - val_accuracy: 0.8128\n",
            "Epoch 83/100\n",
            "32/32 [==============================] - 0s 4ms/step - loss: 0.2699 - accuracy: 0.8953 - val_loss: 0.3900 - val_accuracy: 0.8128\n",
            "Epoch 84/100\n",
            "32/32 [==============================] - 0s 3ms/step - loss: 0.2695 - accuracy: 0.8982 - val_loss: 0.3895 - val_accuracy: 0.8174\n",
            "Epoch 85/100\n",
            "32/32 [==============================] - 0s 3ms/step - loss: 0.2691 - accuracy: 0.9002 - val_loss: 0.3884 - val_accuracy: 0.8128\n",
            "Epoch 86/100\n",
            "32/32 [==============================] - 0s 3ms/step - loss: 0.2677 - accuracy: 0.8982 - val_loss: 0.3880 - val_accuracy: 0.8082\n",
            "Epoch 87/100\n",
            "32/32 [==============================] - 0s 4ms/step - loss: 0.2671 - accuracy: 0.8933 - val_loss: 0.3876 - val_accuracy: 0.8082\n",
            "Epoch 88/100\n",
            "32/32 [==============================] - 0s 3ms/step - loss: 0.2671 - accuracy: 0.8963 - val_loss: 0.3867 - val_accuracy: 0.8128\n",
            "Epoch 89/100\n",
            "32/32 [==============================] - 0s 3ms/step - loss: 0.2651 - accuracy: 0.8924 - val_loss: 0.3890 - val_accuracy: 0.8311\n",
            "Epoch 90/100\n",
            "32/32 [==============================] - 0s 3ms/step - loss: 0.2660 - accuracy: 0.8992 - val_loss: 0.3858 - val_accuracy: 0.8174\n",
            "Epoch 91/100\n",
            "32/32 [==============================] - 0s 4ms/step - loss: 0.2645 - accuracy: 0.8943 - val_loss: 0.3880 - val_accuracy: 0.8311\n",
            "Epoch 92/100\n",
            "32/32 [==============================] - 0s 4ms/step - loss: 0.2649 - accuracy: 0.8963 - val_loss: 0.3846 - val_accuracy: 0.8128\n",
            "Epoch 93/100\n",
            "32/32 [==============================] - 0s 3ms/step - loss: 0.2642 - accuracy: 0.8963 - val_loss: 0.3841 - val_accuracy: 0.8219\n",
            "Epoch 94/100\n",
            "32/32 [==============================] - 0s 3ms/step - loss: 0.2635 - accuracy: 0.8982 - val_loss: 0.3838 - val_accuracy: 0.8174\n",
            "Epoch 95/100\n",
            "32/32 [==============================] - 0s 3ms/step - loss: 0.2636 - accuracy: 0.8953 - val_loss: 0.3832 - val_accuracy: 0.8219\n",
            "Epoch 96/100\n",
            "32/32 [==============================] - 0s 4ms/step - loss: 0.2625 - accuracy: 0.8973 - val_loss: 0.3832 - val_accuracy: 0.8219\n",
            "Epoch 97/100\n",
            "32/32 [==============================] - 0s 4ms/step - loss: 0.2621 - accuracy: 0.8992 - val_loss: 0.3821 - val_accuracy: 0.8219\n",
            "Epoch 98/100\n",
            "32/32 [==============================] - 0s 3ms/step - loss: 0.2618 - accuracy: 0.8963 - val_loss: 0.3815 - val_accuracy: 0.8219\n",
            "Epoch 99/100\n",
            "32/32 [==============================] - 0s 4ms/step - loss: 0.2614 - accuracy: 0.8982 - val_loss: 0.3815 - val_accuracy: 0.8219\n",
            "Epoch 100/100\n",
            "32/32 [==============================] - 0s 3ms/step - loss: 0.2607 - accuracy: 0.8943 - val_loss: 0.3808 - val_accuracy: 0.8265\n"
          ]
        }
      ],
      "source": [
        "hist = model.fit(X_train, Y_train,\n",
        "          batch_size=32, epochs=100,\n",
        "          validation_data=(X_val, Y_val))"
      ]
    },
    {
      "cell_type": "markdown",
      "metadata": {
        "id": "uDMGaoTtLZfa"
      },
      "source": [
        "Evaluating our data on the test set:"
      ]
    },
    {
      "cell_type": "code",
      "execution_count": 24,
      "metadata": {
        "colab": {
          "base_uri": "https://localhost:8080/"
        },
        "id": "uP8JfysRLZfa",
        "outputId": "77b28335-1e11-46b3-81fc-da3be8d57671"
      },
      "outputs": [
        {
          "output_type": "stream",
          "name": "stdout",
          "text": [
            "7/7 [==============================] - 0s 3ms/step - loss: 0.2860 - accuracy: 0.8858\n"
          ]
        },
        {
          "output_type": "execute_result",
          "data": {
            "text/plain": [
              "0.8858447670936584"
            ]
          },
          "metadata": {},
          "execution_count": 24
        }
      ],
      "source": [
        "model.evaluate(X_test, Y_test)[1]"
      ]
    },
    {
      "cell_type": "markdown",
      "metadata": {
        "id": "O_xEOPLhLZfa"
      },
      "source": [
        "# Visualizing Loss and Accuracy"
      ]
    },
    {
      "cell_type": "markdown",
      "metadata": {
        "id": "dU4wuToYLZfb"
      },
      "source": [
        "Import the relevant package we need to do the visualization"
      ]
    },
    {
      "cell_type": "code",
      "execution_count": 25,
      "metadata": {
        "id": "2Zzz5W6VLZfb"
      },
      "outputs": [],
      "source": [
        "import matplotlib.pyplot as plt"
      ]
    },
    {
      "cell_type": "markdown",
      "metadata": {
        "id": "CVNNUWYNLZfb"
      },
      "source": [
        "We want to visualize the training loss and the validation loss like this:"
      ]
    },
    {
      "cell_type": "code",
      "execution_count": 26,
      "metadata": {
        "colab": {
          "base_uri": "https://localhost:8080/",
          "height": 472
        },
        "id": "nzYDRBU0LZfc",
        "outputId": "ff929db7-fca6-4ac1-972c-8307907664ed"
      },
      "outputs": [
        {
          "output_type": "display_data",
          "data": {
            "text/plain": [
              "<Figure size 640x480 with 1 Axes>"
            ],
            "image/png": "[encoded data removed]"
          },
          "metadata": {}
        }
      ],
      "source": [
        "plt.plot(hist.history['loss'])\n",
        "plt.plot(hist.history['val_loss'])\n",
        "plt.title('Model loss')\n",
        "plt.ylabel('Loss')\n",
        "plt.xlabel('Epoch')\n",
        "plt.legend(['Train', 'Val'], loc='upper right')\n",
        "plt.show()"
      ]
    },
    {
      "cell_type": "markdown",
      "metadata": {
        "id": "sUjWalE-LZfc"
      },
      "source": [
        "We can also visualize the training accuracy and the validation accuracy like this:"
      ]
    },
    {
      "cell_type": "markdown",
      "metadata": {
        "id": "VIcKsTDzLZfj"
      },
      "source": [
        "# Adding Regularization to our Neural Network"
      ]
    },
    {
      "cell_type": "markdown",
      "metadata": {
        "id": "VpaQWwJTLZfj"
      },
      "source": [
        "We'll train a model which will overfit, which we call Model 2. This might take a few minutes."
      ]
    },
    {
      "cell_type": "code",
      "execution_count": 29,
      "metadata": {
        "colab": {
          "base_uri": "https://localhost:8080/"
        },
        "id": "Jg2_fDC0LZfj",
        "outputId": "a21ebf33-f8f2-4be7-c36b-3c8c26a8026e"
      },
      "outputs": [
        {
          "output_type": "stream",
          "name": "stdout",
          "text": [
            "Epoch 1/100\n",
            "32/32 [==============================] - 3s 55ms/step - loss: 0.4852 - accuracy: 0.7847 - val_loss: 0.4682 - val_accuracy: 0.7626\n",
            "Epoch 2/100\n",
            "32/32 [==============================] - 1s 45ms/step - loss: 0.3220 - accuracy: 0.8855 - val_loss: 0.4450 - val_accuracy: 0.8037\n",
            "Epoch 3/100\n",
            "32/32 [==============================] - 1s 45ms/step - loss: 0.2868 - accuracy: 0.8875 - val_loss: 0.4756 - val_accuracy: 0.8174\n",
            "Epoch 4/100\n",
            "32/32 [==============================] - 2s 66ms/step - loss: 0.2571 - accuracy: 0.9022 - val_loss: 0.4701 - val_accuracy: 0.8174\n",
            "Epoch 5/100\n",
            "32/32 [==============================] - 2s 72ms/step - loss: 0.2645 - accuracy: 0.8904 - val_loss: 0.4445 - val_accuracy: 0.8082\n",
            "Epoch 6/100\n",
            "32/32 [==============================] - 2s 52ms/step - loss: 0.2456 - accuracy: 0.9090 - val_loss: 0.3739 - val_accuracy: 0.8356\n",
            "Epoch 7/100\n",
            "32/32 [==============================] - 2s 49ms/step - loss: 0.2364 - accuracy: 0.9080 - val_loss: 0.3815 - val_accuracy: 0.8311\n",
            "Epoch 8/100\n",
            "32/32 [==============================] - 1s 45ms/step - loss: 0.2644 - accuracy: 0.8933 - val_loss: 0.4799 - val_accuracy: 0.8265\n",
            "Epoch 9/100\n",
            "32/32 [==============================] - 1s 44ms/step - loss: 0.2277 - accuracy: 0.9207 - val_loss: 0.3735 - val_accuracy: 0.8311\n",
            "Epoch 10/100\n",
            "32/32 [==============================] - 1s 46ms/step - loss: 0.2313 - accuracy: 0.9149 - val_loss: 0.4070 - val_accuracy: 0.8037\n",
            "Epoch 11/100\n",
            "32/32 [==============================] - 1s 47ms/step - loss: 0.2433 - accuracy: 0.9080 - val_loss: 0.3648 - val_accuracy: 0.8174\n",
            "Epoch 12/100\n",
            "32/32 [==============================] - 2s 66ms/step - loss: 0.2248 - accuracy: 0.9070 - val_loss: 0.3459 - val_accuracy: 0.8493\n",
            "Epoch 13/100\n",
            "32/32 [==============================] - 2s 65ms/step - loss: 0.2098 - accuracy: 0.9159 - val_loss: 0.3927 - val_accuracy: 0.8311\n",
            "Epoch 14/100\n",
            "32/32 [==============================] - 2s 48ms/step - loss: 0.2103 - accuracy: 0.9168 - val_loss: 0.4268 - val_accuracy: 0.8037\n",
            "Epoch 15/100\n",
            "32/32 [==============================] - 1s 47ms/step - loss: 0.2232 - accuracy: 0.9100 - val_loss: 0.3837 - val_accuracy: 0.8447\n",
            "Epoch 16/100\n",
            "32/32 [==============================] - 2s 48ms/step - loss: 0.1952 - accuracy: 0.9286 - val_loss: 0.3891 - val_accuracy: 0.8447\n",
            "Epoch 17/100\n",
            "32/32 [==============================] - 2s 47ms/step - loss: 0.2004 - accuracy: 0.9227 - val_loss: 0.3809 - val_accuracy: 0.8447\n",
            "Epoch 18/100\n",
            "32/32 [==============================] - 2s 47ms/step - loss: 0.1967 - accuracy: 0.9256 - val_loss: 0.3540 - val_accuracy: 0.8356\n",
            "Epoch 19/100\n",
            "32/32 [==============================] - 2s 47ms/step - loss: 0.1964 - accuracy: 0.9178 - val_loss: 0.4166 - val_accuracy: 0.8128\n",
            "Epoch 20/100\n",
            "32/32 [==============================] - 2s 71ms/step - loss: 0.1902 - accuracy: 0.9198 - val_loss: 0.3962 - val_accuracy: 0.8311\n",
            "Epoch 21/100\n",
            "32/32 [==============================] - 2s 59ms/step - loss: 0.2022 - accuracy: 0.9168 - val_loss: 0.4040 - val_accuracy: 0.8447\n",
            "Epoch 22/100\n",
            "32/32 [==============================] - 2s 47ms/step - loss: 0.1904 - accuracy: 0.9276 - val_loss: 0.3518 - val_accuracy: 0.8356\n",
            "Epoch 23/100\n",
            "32/32 [==============================] - 1s 46ms/step - loss: 0.1927 - accuracy: 0.9247 - val_loss: 0.3622 - val_accuracy: 0.8402\n",
            "Epoch 24/100\n",
            "32/32 [==============================] - 1s 46ms/step - loss: 0.1968 - accuracy: 0.9256 - val_loss: 0.3712 - val_accuracy: 0.8447\n",
            "Epoch 25/100\n",
            "32/32 [==============================] - 2s 48ms/step - loss: 0.1822 - accuracy: 0.9227 - val_loss: 0.4150 - val_accuracy: 0.8402\n",
            "Epoch 26/100\n",
            "32/32 [==============================] - 2s 49ms/step - loss: 0.2068 - accuracy: 0.9159 - val_loss: 0.4083 - val_accuracy: 0.8174\n",
            "Epoch 27/100\n",
            "32/32 [==============================] - 2s 54ms/step - loss: 0.1973 - accuracy: 0.9237 - val_loss: 0.3656 - val_accuracy: 0.8265\n",
            "Epoch 28/100\n",
            "32/32 [==============================] - 3s 82ms/step - loss: 0.1764 - accuracy: 0.9295 - val_loss: 0.4273 - val_accuracy: 0.8402\n",
            "Epoch 29/100\n",
            "32/32 [==============================] - 2s 52ms/step - loss: 0.1832 - accuracy: 0.9305 - val_loss: 0.4147 - val_accuracy: 0.8447\n",
            "Epoch 30/100\n",
            "32/32 [==============================] - 2s 51ms/step - loss: 0.1899 - accuracy: 0.9227 - val_loss: 0.4089 - val_accuracy: 0.8402\n",
            "Epoch 31/100\n",
            "32/32 [==============================] - 2s 52ms/step - loss: 0.1842 - accuracy: 0.9266 - val_loss: 0.4360 - val_accuracy: 0.8174\n",
            "Epoch 32/100\n",
            "32/32 [==============================] - 2s 48ms/step - loss: 0.1884 - accuracy: 0.9237 - val_loss: 0.4195 - val_accuracy: 0.8265\n",
            "Epoch 33/100\n",
            "32/32 [==============================] - 2s 47ms/step - loss: 0.1855 - accuracy: 0.9217 - val_loss: 0.4401 - val_accuracy: 0.8219\n",
            "Epoch 34/100\n",
            "32/32 [==============================] - 1s 46ms/step - loss: 0.1766 - accuracy: 0.9325 - val_loss: 0.4494 - val_accuracy: 0.8584\n",
            "Epoch 35/100\n",
            "32/32 [==============================] - 2s 59ms/step - loss: 0.1882 - accuracy: 0.9247 - val_loss: 0.4374 - val_accuracy: 0.8539\n",
            "Epoch 36/100\n",
            "32/32 [==============================] - 2s 69ms/step - loss: 0.1713 - accuracy: 0.9305 - val_loss: 0.4235 - val_accuracy: 0.8311\n",
            "Epoch 37/100\n",
            "32/32 [==============================] - 1s 47ms/step - loss: 0.1735 - accuracy: 0.9286 - val_loss: 0.4085 - val_accuracy: 0.8493\n",
            "Epoch 38/100\n",
            "32/32 [==============================] - 2s 48ms/step - loss: 0.1653 - accuracy: 0.9325 - val_loss: 0.4287 - val_accuracy: 0.8265\n",
            "Epoch 39/100\n",
            "32/32 [==============================] - 2s 48ms/step - loss: 0.1764 - accuracy: 0.9315 - val_loss: 0.4365 - val_accuracy: 0.8265\n",
            "Epoch 40/100\n",
            "32/32 [==============================] - 2s 50ms/step - loss: 0.1567 - accuracy: 0.9335 - val_loss: 0.4051 - val_accuracy: 0.8630\n",
            "Epoch 41/100\n",
            "32/32 [==============================] - 2s 51ms/step - loss: 0.1576 - accuracy: 0.9374 - val_loss: 0.4675 - val_accuracy: 0.8447\n",
            "Epoch 42/100\n",
            "32/32 [==============================] - 2s 51ms/step - loss: 0.1649 - accuracy: 0.9393 - val_loss: 0.4198 - val_accuracy: 0.8219\n",
            "Epoch 43/100\n",
            "32/32 [==============================] - 2s 67ms/step - loss: 0.1734 - accuracy: 0.9325 - val_loss: 0.3750 - val_accuracy: 0.8128\n",
            "Epoch 44/100\n",
            "32/32 [==============================] - 2s 67ms/step - loss: 0.1553 - accuracy: 0.9374 - val_loss: 0.4200 - val_accuracy: 0.8402\n",
            "Epoch 45/100\n",
            "32/32 [==============================] - 2s 50ms/step - loss: 0.1670 - accuracy: 0.9364 - val_loss: 0.4315 - val_accuracy: 0.8356\n",
            "Epoch 46/100\n",
            "32/32 [==============================] - 2s 52ms/step - loss: 0.1576 - accuracy: 0.9374 - val_loss: 0.4233 - val_accuracy: 0.8219\n",
            "Epoch 47/100\n",
            "32/32 [==============================] - 2s 52ms/step - loss: 0.1573 - accuracy: 0.9354 - val_loss: 0.3825 - val_accuracy: 0.8447\n",
            "Epoch 48/100\n",
            "32/32 [==============================] - 2s 57ms/step - loss: 0.1347 - accuracy: 0.9472 - val_loss: 0.4319 - val_accuracy: 0.8493\n",
            "Epoch 49/100\n",
            "32/32 [==============================] - 2s 50ms/step - loss: 0.1615 - accuracy: 0.9325 - val_loss: 0.3993 - val_accuracy: 0.8128\n",
            "Epoch 50/100\n",
            "32/32 [==============================] - 2s 77ms/step - loss: 0.1607 - accuracy: 0.9344 - val_loss: 0.4239 - val_accuracy: 0.8311\n",
            "Epoch 51/100\n",
            "32/32 [==============================] - 2s 71ms/step - loss: 0.1459 - accuracy: 0.9452 - val_loss: 0.4744 - val_accuracy: 0.8219\n",
            "Epoch 52/100\n",
            "32/32 [==============================] - 2s 56ms/step - loss: 0.1580 - accuracy: 0.9393 - val_loss: 0.6468 - val_accuracy: 0.7945\n",
            "Epoch 53/100\n",
            "32/32 [==============================] - 2s 49ms/step - loss: 0.1698 - accuracy: 0.9315 - val_loss: 0.4068 - val_accuracy: 0.8447\n",
            "Epoch 54/100\n",
            "32/32 [==============================] - 2s 50ms/step - loss: 0.1397 - accuracy: 0.9472 - val_loss: 0.5150 - val_accuracy: 0.8174\n",
            "Epoch 55/100\n",
            "32/32 [==============================] - 2s 51ms/step - loss: 0.1504 - accuracy: 0.9442 - val_loss: 0.4706 - val_accuracy: 0.8265\n",
            "Epoch 56/100\n",
            "32/32 [==============================] - 2s 50ms/step - loss: 0.1476 - accuracy: 0.9393 - val_loss: 0.4145 - val_accuracy: 0.8174\n",
            "Epoch 57/100\n",
            "32/32 [==============================] - 2s 57ms/step - loss: 0.1277 - accuracy: 0.9530 - val_loss: 0.5779 - val_accuracy: 0.8128\n",
            "Epoch 58/100\n",
            "32/32 [==============================] - 2s 76ms/step - loss: 0.1738 - accuracy: 0.9374 - val_loss: 0.5380 - val_accuracy: 0.8630\n",
            "Epoch 59/100\n",
            "32/32 [==============================] - 3s 83ms/step - loss: 0.1391 - accuracy: 0.9481 - val_loss: 0.5999 - val_accuracy: 0.8356\n",
            "Epoch 60/100\n",
            "32/32 [==============================] - 2s 50ms/step - loss: 0.1673 - accuracy: 0.9305 - val_loss: 0.4476 - val_accuracy: 0.8402\n",
            "Epoch 61/100\n",
            "32/32 [==============================] - 2s 49ms/step - loss: 0.1817 - accuracy: 0.9227 - val_loss: 0.3981 - val_accuracy: 0.8265\n",
            "Epoch 62/100\n",
            "32/32 [==============================] - 2s 49ms/step - loss: 0.1495 - accuracy: 0.9423 - val_loss: 0.3924 - val_accuracy: 0.8356\n",
            "Epoch 63/100\n",
            "32/32 [==============================] - 2s 58ms/step - loss: 0.1296 - accuracy: 0.9540 - val_loss: 0.4581 - val_accuracy: 0.8402\n",
            "Epoch 64/100\n",
            "32/32 [==============================] - 2s 69ms/step - loss: 0.1295 - accuracy: 0.9472 - val_loss: 0.5086 - val_accuracy: 0.8311\n",
            "Epoch 65/100\n",
            "32/32 [==============================] - 2s 77ms/step - loss: 0.1354 - accuracy: 0.9423 - val_loss: 0.4233 - val_accuracy: 0.8447\n",
            "Epoch 66/100\n",
            "32/32 [==============================] - 2s 53ms/step - loss: 0.1329 - accuracy: 0.9423 - val_loss: 0.6022 - val_accuracy: 0.8402\n",
            "Epoch 67/100\n",
            "32/32 [==============================] - 2s 52ms/step - loss: 0.1333 - accuracy: 0.9472 - val_loss: 0.5235 - val_accuracy: 0.8174\n",
            "Epoch 68/100\n",
            "32/32 [==============================] - 2s 50ms/step - loss: 0.1187 - accuracy: 0.9599 - val_loss: 0.5775 - val_accuracy: 0.8447\n",
            "Epoch 69/100\n",
            "32/32 [==============================] - 2s 57ms/step - loss: 0.1229 - accuracy: 0.9550 - val_loss: 0.5547 - val_accuracy: 0.8356\n",
            "Epoch 70/100\n",
            "32/32 [==============================] - 2s 57ms/step - loss: 0.1262 - accuracy: 0.9530 - val_loss: 0.6032 - val_accuracy: 0.8219\n",
            "Epoch 71/100\n",
            "32/32 [==============================] - 2s 69ms/step - loss: 0.1498 - accuracy: 0.9432 - val_loss: 0.5536 - val_accuracy: 0.8219\n",
            "Epoch 72/100\n",
            "32/32 [==============================] - 2s 74ms/step - loss: 0.1222 - accuracy: 0.9550 - val_loss: 0.5617 - val_accuracy: 0.8311\n",
            "Epoch 73/100\n",
            "32/32 [==============================] - 2s 55ms/step - loss: 0.1134 - accuracy: 0.9540 - val_loss: 0.5448 - val_accuracy: 0.8493\n",
            "Epoch 74/100\n",
            "32/32 [==============================] - 2s 55ms/step - loss: 0.1690 - accuracy: 0.9364 - val_loss: 0.4760 - val_accuracy: 0.8265\n",
            "Epoch 75/100\n",
            "32/32 [==============================] - 2s 52ms/step - loss: 0.1272 - accuracy: 0.9491 - val_loss: 0.4718 - val_accuracy: 0.8447\n",
            "Epoch 76/100\n",
            "32/32 [==============================] - 2s 57ms/step - loss: 0.1112 - accuracy: 0.9550 - val_loss: 0.4698 - val_accuracy: 0.8447\n",
            "Epoch 77/100\n",
            "32/32 [==============================] - 2s 56ms/step - loss: 0.1244 - accuracy: 0.9530 - val_loss: 0.5036 - val_accuracy: 0.8265\n",
            "Epoch 78/100\n",
            "32/32 [==============================] - 2s 66ms/step - loss: 0.1227 - accuracy: 0.9442 - val_loss: 0.8751 - val_accuracy: 0.8311\n",
            "Epoch 79/100\n",
            "32/32 [==============================] - 2s 74ms/step - loss: 0.1417 - accuracy: 0.9462 - val_loss: 0.5995 - val_accuracy: 0.8311\n",
            "Epoch 80/100\n",
            "32/32 [==============================] - 2s 54ms/step - loss: 0.1112 - accuracy: 0.9550 - val_loss: 0.6201 - val_accuracy: 0.8219\n",
            "Epoch 81/100\n",
            "32/32 [==============================] - 2s 54ms/step - loss: 0.1148 - accuracy: 0.9550 - val_loss: 0.5949 - val_accuracy: 0.8539\n",
            "Epoch 82/100\n",
            "32/32 [==============================] - 2s 53ms/step - loss: 0.1478 - accuracy: 0.9413 - val_loss: 0.4984 - val_accuracy: 0.8128\n",
            "Epoch 83/100\n",
            "32/32 [==============================] - 2s 54ms/step - loss: 0.1197 - accuracy: 0.9560 - val_loss: 0.4567 - val_accuracy: 0.8447\n",
            "Epoch 84/100\n",
            "32/32 [==============================] - 2s 52ms/step - loss: 0.1167 - accuracy: 0.9540 - val_loss: 0.5041 - val_accuracy: 0.8402\n",
            "Epoch 85/100\n",
            "32/32 [==============================] - 2s 68ms/step - loss: 0.1088 - accuracy: 0.9550 - val_loss: 0.5785 - val_accuracy: 0.8037\n",
            "Epoch 86/100\n",
            "32/32 [==============================] - 2s 70ms/step - loss: 0.1152 - accuracy: 0.9530 - val_loss: 0.5999 - val_accuracy: 0.8311\n",
            "Epoch 87/100\n",
            "32/32 [==============================] - 2s 56ms/step - loss: 0.1309 - accuracy: 0.9560 - val_loss: 0.4832 - val_accuracy: 0.8174\n",
            "Epoch 88/100\n",
            "32/32 [==============================] - 2s 56ms/step - loss: 0.1119 - accuracy: 0.9550 - val_loss: 0.6319 - val_accuracy: 0.8447\n",
            "Epoch 89/100\n",
            "32/32 [==============================] - 2s 53ms/step - loss: 0.0991 - accuracy: 0.9618 - val_loss: 0.6315 - val_accuracy: 0.8356\n",
            "Epoch 90/100\n",
            "32/32 [==============================] - 2s 52ms/step - loss: 0.1039 - accuracy: 0.9579 - val_loss: 0.5994 - val_accuracy: 0.8356\n",
            "Epoch 91/100\n",
            "32/32 [==============================] - 2s 52ms/step - loss: 0.1250 - accuracy: 0.9550 - val_loss: 0.7130 - val_accuracy: 0.8174\n",
            "Epoch 92/100\n",
            "32/32 [==============================] - 2s 64ms/step - loss: 0.1313 - accuracy: 0.9491 - val_loss: 0.5219 - val_accuracy: 0.8265\n",
            "Epoch 93/100\n",
            "32/32 [==============================] - 3s 88ms/step - loss: 0.1076 - accuracy: 0.9550 - val_loss: 0.6154 - val_accuracy: 0.8265\n",
            "Epoch 94/100\n",
            "32/32 [==============================] - 3s 81ms/step - loss: 0.0948 - accuracy: 0.9638 - val_loss: 0.6977 - val_accuracy: 0.8311\n",
            "Epoch 95/100\n",
            "32/32 [==============================] - 2s 58ms/step - loss: 0.1003 - accuracy: 0.9569 - val_loss: 0.8641 - val_accuracy: 0.8128\n",
            "Epoch 96/100\n",
            "32/32 [==============================] - 2s 56ms/step - loss: 0.1016 - accuracy: 0.9589 - val_loss: 0.8167 - val_accuracy: 0.8493\n",
            "Epoch 97/100\n",
            "32/32 [==============================] - 2s 55ms/step - loss: 0.1336 - accuracy: 0.9491 - val_loss: 0.4409 - val_accuracy: 0.8265\n",
            "Epoch 98/100\n",
            "32/32 [==============================] - 2s 54ms/step - loss: 0.1044 - accuracy: 0.9560 - val_loss: 0.5586 - val_accuracy: 0.8356\n",
            "Epoch 99/100\n",
            "32/32 [==============================] - 2s 65ms/step - loss: 0.0975 - accuracy: 0.9618 - val_loss: 0.6128 - val_accuracy: 0.8265\n",
            "Epoch 100/100\n",
            "32/32 [==============================] - 3s 80ms/step - loss: 0.0896 - accuracy: 0.9618 - val_loss: 0.6877 - val_accuracy: 0.8402\n"
          ]
        }
      ],
      "source": [
        "model_2 = Sequential([\n",
        "    Dense(1000, activation='relu', input_shape=(10,)),\n",
        "    Dense(1000, activation='relu'),\n",
        "    Dense(1000, activation='relu'),\n",
        "    Dense(1000, activation='relu'),\n",
        "    Dense(1, activation='sigmoid'),\n",
        "])\n",
        "model_2.compile(optimizer='adam',\n",
        "              loss='binary_crossentropy',\n",
        "              metrics=['accuracy'])\n",
        "hist_2 = model_2.fit(X_train, Y_train,\n",
        "          batch_size=32, epochs=100,\n",
        "          validation_data=(X_val, Y_val))"
      ]
    },
    {
      "cell_type": "markdown",
      "metadata": {
        "id": "k0-0G73nLZfj"
      },
      "source": [
        "Let's do the same visualization to see what overfitting looks like in terms of the loss and accuracy."
      ]
    },
    {
      "cell_type": "code",
      "execution_count": 30,
      "metadata": {
        "colab": {
          "base_uri": "https://localhost:8080/",
          "height": 472
        },
        "id": "z83n5q77LZfk",
        "outputId": "aa4bd043-15b6-48e4-bbfe-27c8ef25c651"
      },
      "outputs": [
        {
          "output_type": "display_data",
          "data": {
            "text/plain": [
              "<Figure size 640x480 with 1 Axes>"
            ],
            "image/png": "[encoded data removed]"
          },
          "metadata": {}
        }
      ],
      "source": [
        "plt.plot(hist_2.history['loss'])\n",
        "plt.plot(hist_2.history['val_loss'])\n",
        "plt.title('Model loss')\n",
        "plt.ylabel('Loss')\n",
        "plt.xlabel('Epoch')\n",
        "plt.legend(['Train', 'Val'], loc='upper right')\n",
        "plt.show()"
      ]
    },
    {
      "cell_type": "markdown",
      "metadata": {
        "id": "cUGnCDmzLZfk"
      },
      "source": [
        "To address the overfitting we see in Model 2, we'll incorporate L2 regularization and dropout in our third model here (Model 3)."
      ]
    },
    {
      "cell_type": "code",
      "execution_count": 32,
      "metadata": {
        "id": "vvWL9bNvLZfk"
      },
      "outputs": [],
      "source": [
        "from keras.layers import Dropout\n",
        "from keras import regularizers"
      ]
    },
    {
      "cell_type": "code",
      "execution_count": 33,
      "metadata": {
        "id": "sruhfFIeLZfl"
      },
      "outputs": [],
      "source": [
        "model_3 = Sequential([\n",
        "    Dense(1000, activation='relu', kernel_regularizer=regularizers.l2(0.01), input_shape=(10,)),\n",
        "    Dropout(0.3),\n",
        "    Dense(1000, activation='relu', kernel_regularizer=regularizers.l2(0.01)),\n",
        "    Dropout(0.3),\n",
        "    Dense(1000, activation='relu', kernel_regularizer=regularizers.l2(0.01)),\n",
        "    Dropout(0.3),\n",
        "    Dense(1000, activation='relu', kernel_regularizer=regularizers.l2(0.01)),\n",
        "    Dropout(0.3),\n",
        "    Dense(1, activation='sigmoid', kernel_regularizer=regularizers.l2(0.01)),\n",
        "])"
      ]
    },
    {
      "cell_type": "code",
      "execution_count": 34,
      "metadata": {
        "id": "xial34G7LZfl",
        "outputId": "25347c9c-732b-4841-bbe4-fbd9f7854863",
        "colab": {
          "base_uri": "https://localhost:8080/"
        }
      },
      "outputs": [
        {
          "output_type": "stream",
          "name": "stdout",
          "text": [
            "Epoch 1/100\n",
            "32/32 [==============================] - 4s 81ms/step - loss: 14.2455 - accuracy: 0.5890 - val_loss: 3.9395 - val_accuracy: 0.7443\n",
            "Epoch 2/100\n",
            "32/32 [==============================] - 3s 81ms/step - loss: 1.6781 - accuracy: 0.8327 - val_loss: 0.7308 - val_accuracy: 0.7900\n",
            "Epoch 3/100\n",
            "32/32 [==============================] - 2s 63ms/step - loss: 0.5405 - accuracy: 0.8806 - val_loss: 0.5864 - val_accuracy: 0.8082\n",
            "Epoch 4/100\n",
            "32/32 [==============================] - 2s 68ms/step - loss: 0.4799 - accuracy: 0.8826 - val_loss: 0.5636 - val_accuracy: 0.8265\n",
            "Epoch 5/100\n",
            "32/32 [==============================] - 2s 67ms/step - loss: 0.4837 - accuracy: 0.8836 - val_loss: 0.5574 - val_accuracy: 0.8265\n",
            "Epoch 6/100\n",
            "32/32 [==============================] - 2s 67ms/step - loss: 0.4715 - accuracy: 0.8836 - val_loss: 0.5506 - val_accuracy: 0.8356\n",
            "Epoch 7/100\n",
            "32/32 [==============================] - 2s 78ms/step - loss: 0.4865 - accuracy: 0.8718 - val_loss: 0.5907 - val_accuracy: 0.7991\n",
            "Epoch 8/100\n",
            "32/32 [==============================] - 3s 78ms/step - loss: 0.4719 - accuracy: 0.8816 - val_loss: 0.5733 - val_accuracy: 0.8128\n",
            "Epoch 9/100\n",
            "32/32 [==============================] - 2s 65ms/step - loss: 0.4547 - accuracy: 0.8943 - val_loss: 0.5347 - val_accuracy: 0.8402\n",
            "Epoch 10/100\n",
            "32/32 [==============================] - 2s 62ms/step - loss: 0.4517 - accuracy: 0.8914 - val_loss: 0.5408 - val_accuracy: 0.8493\n",
            "Epoch 11/100\n",
            "32/32 [==============================] - 2s 68ms/step - loss: 0.4475 - accuracy: 0.8894 - val_loss: 0.6382 - val_accuracy: 0.8037\n",
            "Epoch 12/100\n",
            "32/32 [==============================] - 2s 62ms/step - loss: 0.4487 - accuracy: 0.8963 - val_loss: 0.5753 - val_accuracy: 0.8128\n",
            "Epoch 13/100\n",
            "32/32 [==============================] - 2s 73ms/step - loss: 0.4342 - accuracy: 0.8933 - val_loss: 0.5216 - val_accuracy: 0.8402\n",
            "Epoch 14/100\n",
            "32/32 [==============================] - 3s 82ms/step - loss: 0.4984 - accuracy: 0.8650 - val_loss: 0.6092 - val_accuracy: 0.8082\n",
            "Epoch 15/100\n",
            "32/32 [==============================] - 2s 61ms/step - loss: 0.4458 - accuracy: 0.8933 - val_loss: 0.5770 - val_accuracy: 0.7900\n",
            "Epoch 16/100\n",
            "32/32 [==============================] - 2s 60ms/step - loss: 0.4285 - accuracy: 0.9002 - val_loss: 0.5193 - val_accuracy: 0.8447\n",
            "Epoch 17/100\n",
            "32/32 [==============================] - 2s 67ms/step - loss: 0.4329 - accuracy: 0.8973 - val_loss: 0.5147 - val_accuracy: 0.8356\n",
            "Epoch 18/100\n",
            "32/32 [==============================] - 2s 65ms/step - loss: 0.4306 - accuracy: 0.8963 - val_loss: 0.5157 - val_accuracy: 0.8356\n",
            "Epoch 19/100\n",
            "32/32 [==============================] - 3s 83ms/step - loss: 0.4300 - accuracy: 0.8806 - val_loss: 0.5754 - val_accuracy: 0.8174\n",
            "Epoch 20/100\n",
            "32/32 [==============================] - 3s 88ms/step - loss: 0.4493 - accuracy: 0.8836 - val_loss: 0.5291 - val_accuracy: 0.8356\n",
            "Epoch 21/100\n",
            "32/32 [==============================] - 2s 64ms/step - loss: 0.4296 - accuracy: 0.8973 - val_loss: 0.5143 - val_accuracy: 0.8265\n",
            "Epoch 22/100\n",
            "32/32 [==============================] - 2s 68ms/step - loss: 0.4499 - accuracy: 0.8855 - val_loss: 0.5242 - val_accuracy: 0.8311\n",
            "Epoch 23/100\n",
            "32/32 [==============================] - 2s 62ms/step - loss: 0.4397 - accuracy: 0.8894 - val_loss: 0.5269 - val_accuracy: 0.8219\n",
            "Epoch 24/100\n",
            "32/32 [==============================] - 2s 65ms/step - loss: 0.4284 - accuracy: 0.8904 - val_loss: 0.5416 - val_accuracy: 0.8128\n",
            "Epoch 25/100\n",
            "32/32 [==============================] - 3s 93ms/step - loss: 0.4301 - accuracy: 0.8924 - val_loss: 0.5298 - val_accuracy: 0.8082\n",
            "Epoch 26/100\n",
            "32/32 [==============================] - 2s 73ms/step - loss: 0.4308 - accuracy: 0.8826 - val_loss: 0.5381 - val_accuracy: 0.7991\n",
            "Epoch 27/100\n",
            "32/32 [==============================] - 2s 62ms/step - loss: 0.4489 - accuracy: 0.8836 - val_loss: 0.5036 - val_accuracy: 0.8493\n",
            "Epoch 28/100\n",
            "32/32 [==============================] - 2s 57ms/step - loss: 0.4247 - accuracy: 0.9041 - val_loss: 0.5074 - val_accuracy: 0.8402\n",
            "Epoch 29/100\n",
            "32/32 [==============================] - 2s 58ms/step - loss: 0.4154 - accuracy: 0.8904 - val_loss: 0.4938 - val_accuracy: 0.8356\n",
            "Epoch 30/100\n",
            "32/32 [==============================] - 2s 62ms/step - loss: 0.4307 - accuracy: 0.8894 - val_loss: 0.5277 - val_accuracy: 0.8082\n",
            "Epoch 31/100\n",
            "32/32 [==============================] - 2s 76ms/step - loss: 0.4331 - accuracy: 0.8865 - val_loss: 0.5199 - val_accuracy: 0.8128\n",
            "Epoch 32/100\n",
            "32/32 [==============================] - 3s 90ms/step - loss: 0.4247 - accuracy: 0.8894 - val_loss: 0.5381 - val_accuracy: 0.7991\n",
            "Epoch 33/100\n",
            "32/32 [==============================] - 2s 70ms/step - loss: 0.4400 - accuracy: 0.8924 - val_loss: 0.5264 - val_accuracy: 0.8128\n",
            "Epoch 34/100\n",
            "32/32 [==============================] - 2s 70ms/step - loss: 0.4405 - accuracy: 0.8875 - val_loss: 0.5074 - val_accuracy: 0.8447\n",
            "Epoch 35/100\n",
            "32/32 [==============================] - 2s 72ms/step - loss: 0.4372 - accuracy: 0.8777 - val_loss: 0.5250 - val_accuracy: 0.8311\n",
            "Epoch 36/100\n",
            "32/32 [==============================] - 2s 66ms/step - loss: 0.4315 - accuracy: 0.8953 - val_loss: 0.5151 - val_accuracy: 0.8356\n",
            "Epoch 37/100\n",
            "32/32 [==============================] - 3s 91ms/step - loss: 0.4472 - accuracy: 0.8787 - val_loss: 0.5535 - val_accuracy: 0.8037\n",
            "Epoch 38/100\n",
            "32/32 [==============================] - 2s 75ms/step - loss: 0.4414 - accuracy: 0.8845 - val_loss: 0.5190 - val_accuracy: 0.8356\n",
            "Epoch 39/100\n",
            "32/32 [==============================] - 2s 66ms/step - loss: 0.4193 - accuracy: 0.9051 - val_loss: 0.5229 - val_accuracy: 0.8037\n",
            "Epoch 40/100\n",
            "32/32 [==============================] - 2s 69ms/step - loss: 0.4244 - accuracy: 0.8904 - val_loss: 0.4999 - val_accuracy: 0.8447\n",
            "Epoch 41/100\n",
            "32/32 [==============================] - 2s 63ms/step - loss: 0.4275 - accuracy: 0.8894 - val_loss: 0.5471 - val_accuracy: 0.8037\n",
            "Epoch 42/100\n",
            "32/32 [==============================] - 2s 65ms/step - loss: 0.4480 - accuracy: 0.8826 - val_loss: 0.5832 - val_accuracy: 0.7854\n",
            "Epoch 43/100\n",
            "32/32 [==============================] - 3s 88ms/step - loss: 0.4447 - accuracy: 0.8875 - val_loss: 0.5067 - val_accuracy: 0.8493\n",
            "Epoch 44/100\n",
            "32/32 [==============================] - 2s 71ms/step - loss: 0.4196 - accuracy: 0.9012 - val_loss: 0.5047 - val_accuracy: 0.8493\n",
            "Epoch 45/100\n",
            "32/32 [==============================] - 2s 71ms/step - loss: 0.4282 - accuracy: 0.8865 - val_loss: 0.5119 - val_accuracy: 0.8311\n",
            "Epoch 46/100\n",
            "32/32 [==============================] - 2s 67ms/step - loss: 0.4221 - accuracy: 0.8963 - val_loss: 0.5034 - val_accuracy: 0.8447\n",
            "Epoch 47/100\n",
            "32/32 [==============================] - 2s 69ms/step - loss: 0.4404 - accuracy: 0.8777 - val_loss: 0.5546 - val_accuracy: 0.7900\n",
            "Epoch 48/100\n",
            "32/32 [==============================] - 3s 82ms/step - loss: 0.4459 - accuracy: 0.8885 - val_loss: 0.5163 - val_accuracy: 0.8402\n",
            "Epoch 49/100\n",
            "32/32 [==============================] - 3s 91ms/step - loss: 0.4129 - accuracy: 0.9012 - val_loss: 0.4952 - val_accuracy: 0.8402\n",
            "Epoch 50/100\n",
            "32/32 [==============================] - 2s 74ms/step - loss: 0.4249 - accuracy: 0.8924 - val_loss: 0.5126 - val_accuracy: 0.8447\n",
            "Epoch 51/100\n",
            "32/32 [==============================] - 2s 63ms/step - loss: 0.4292 - accuracy: 0.8885 - val_loss: 0.4934 - val_accuracy: 0.8402\n",
            "Epoch 52/100\n",
            "32/32 [==============================] - 2s 68ms/step - loss: 0.4338 - accuracy: 0.8904 - val_loss: 0.5508 - val_accuracy: 0.7991\n",
            "Epoch 53/100\n",
            "32/32 [==============================] - 2s 66ms/step - loss: 0.4296 - accuracy: 0.8845 - val_loss: 0.5167 - val_accuracy: 0.8402\n",
            "Epoch 54/100\n",
            "32/32 [==============================] - 3s 84ms/step - loss: 0.4226 - accuracy: 0.8933 - val_loss: 0.5042 - val_accuracy: 0.8493\n",
            "Epoch 55/100\n",
            "32/32 [==============================] - 3s 78ms/step - loss: 0.4180 - accuracy: 0.8992 - val_loss: 0.5269 - val_accuracy: 0.8174\n",
            "Epoch 56/100\n",
            "32/32 [==============================] - 2s 63ms/step - loss: 0.4261 - accuracy: 0.8933 - val_loss: 0.4968 - val_accuracy: 0.8447\n",
            "Epoch 57/100\n",
            "32/32 [==============================] - 2s 65ms/step - loss: 0.4256 - accuracy: 0.9012 - val_loss: 0.5010 - val_accuracy: 0.8447\n",
            "Epoch 58/100\n",
            "32/32 [==============================] - 2s 75ms/step - loss: 0.4296 - accuracy: 0.8943 - val_loss: 0.5071 - val_accuracy: 0.8402\n",
            "Epoch 59/100\n",
            "32/32 [==============================] - 2s 68ms/step - loss: 0.4185 - accuracy: 0.9012 - val_loss: 0.4940 - val_accuracy: 0.8493\n",
            "Epoch 60/100\n",
            "32/32 [==============================] - 3s 86ms/step - loss: 0.4158 - accuracy: 0.8973 - val_loss: 0.5030 - val_accuracy: 0.8447\n",
            "Epoch 61/100\n",
            "32/32 [==============================] - 2s 76ms/step - loss: 0.4174 - accuracy: 0.9051 - val_loss: 0.5070 - val_accuracy: 0.8447\n",
            "Epoch 62/100\n",
            "32/32 [==============================] - 2s 70ms/step - loss: 0.4306 - accuracy: 0.8963 - val_loss: 0.4977 - val_accuracy: 0.8539\n",
            "Epoch 63/100\n",
            "32/32 [==============================] - 2s 69ms/step - loss: 0.4084 - accuracy: 0.9012 - val_loss: 0.4886 - val_accuracy: 0.8493\n",
            "Epoch 64/100\n",
            "32/32 [==============================] - 2s 68ms/step - loss: 0.4208 - accuracy: 0.8982 - val_loss: 0.5976 - val_accuracy: 0.7854\n",
            "Epoch 65/100\n",
            "32/32 [==============================] - 2s 78ms/step - loss: 0.4363 - accuracy: 0.8933 - val_loss: 0.5075 - val_accuracy: 0.8356\n",
            "Epoch 66/100\n",
            "32/32 [==============================] - 3s 97ms/step - loss: 0.4229 - accuracy: 0.8767 - val_loss: 0.5070 - val_accuracy: 0.8447\n",
            "Epoch 67/100\n",
            "32/32 [==============================] - 2s 68ms/step - loss: 0.4115 - accuracy: 0.8992 - val_loss: 0.5128 - val_accuracy: 0.8402\n",
            "Epoch 68/100\n",
            "32/32 [==============================] - 2s 67ms/step - loss: 0.4282 - accuracy: 0.8885 - val_loss: 0.5133 - val_accuracy: 0.8311\n",
            "Epoch 69/100\n",
            "32/32 [==============================] - 2s 63ms/step - loss: 0.4267 - accuracy: 0.8904 - val_loss: 0.5093 - val_accuracy: 0.8174\n",
            "Epoch 70/100\n",
            "32/32 [==============================] - 2s 77ms/step - loss: 0.4202 - accuracy: 0.8924 - val_loss: 0.5431 - val_accuracy: 0.7991\n",
            "Epoch 71/100\n",
            "32/32 [==============================] - 3s 80ms/step - loss: 0.4310 - accuracy: 0.8875 - val_loss: 0.5100 - val_accuracy: 0.8447\n",
            "Epoch 72/100\n",
            "32/32 [==============================] - 3s 90ms/step - loss: 0.4271 - accuracy: 0.8885 - val_loss: 0.5151 - val_accuracy: 0.8082\n",
            "Epoch 73/100\n",
            "32/32 [==============================] - 2s 62ms/step - loss: 0.4308 - accuracy: 0.8894 - val_loss: 0.5008 - val_accuracy: 0.8493\n",
            "Epoch 74/100\n",
            "32/32 [==============================] - 2s 68ms/step - loss: 0.4317 - accuracy: 0.8924 - val_loss: 0.4980 - val_accuracy: 0.8493\n",
            "Epoch 75/100\n",
            "32/32 [==============================] - 3s 83ms/step - loss: 0.4252 - accuracy: 0.8963 - val_loss: 0.5065 - val_accuracy: 0.8447\n",
            "Epoch 76/100\n",
            "32/32 [==============================] - 2s 71ms/step - loss: 0.4163 - accuracy: 0.8982 - val_loss: 0.5127 - val_accuracy: 0.8174\n",
            "Epoch 77/100\n",
            "32/32 [==============================] - 3s 104ms/step - loss: 0.4212 - accuracy: 0.8943 - val_loss: 0.5362 - val_accuracy: 0.7991\n",
            "Epoch 78/100\n",
            "32/32 [==============================] - 2s 72ms/step - loss: 0.4304 - accuracy: 0.8875 - val_loss: 0.5177 - val_accuracy: 0.8128\n",
            "Epoch 79/100\n",
            "32/32 [==============================] - 2s 74ms/step - loss: 0.4250 - accuracy: 0.8914 - val_loss: 0.4967 - val_accuracy: 0.8493\n",
            "Epoch 80/100\n",
            "32/32 [==============================] - 3s 79ms/step - loss: 0.4264 - accuracy: 0.8973 - val_loss: 0.5177 - val_accuracy: 0.8311\n",
            "Epoch 81/100\n",
            "32/32 [==============================] - 2s 68ms/step - loss: 0.4279 - accuracy: 0.8865 - val_loss: 0.4939 - val_accuracy: 0.8447\n",
            "Epoch 82/100\n",
            "32/32 [==============================] - 3s 89ms/step - loss: 0.4229 - accuracy: 0.8973 - val_loss: 0.4932 - val_accuracy: 0.8447\n",
            "Epoch 83/100\n",
            "32/32 [==============================] - 3s 82ms/step - loss: 0.4243 - accuracy: 0.8875 - val_loss: 0.4909 - val_accuracy: 0.8402\n",
            "Epoch 84/100\n",
            "32/32 [==============================] - 2s 68ms/step - loss: 0.4306 - accuracy: 0.8963 - val_loss: 0.5008 - val_accuracy: 0.8493\n",
            "Epoch 85/100\n",
            "32/32 [==============================] - 2s 67ms/step - loss: 0.4192 - accuracy: 0.8963 - val_loss: 0.5189 - val_accuracy: 0.8128\n",
            "Epoch 86/100\n",
            "32/32 [==============================] - 2s 67ms/step - loss: 0.4258 - accuracy: 0.8943 - val_loss: 0.5024 - val_accuracy: 0.8311\n",
            "Epoch 87/100\n",
            "32/32 [==============================] - 2s 63ms/step - loss: 0.4297 - accuracy: 0.8875 - val_loss: 0.5019 - val_accuracy: 0.8493\n",
            "Epoch 88/100\n",
            "32/32 [==============================] - 3s 86ms/step - loss: 0.4155 - accuracy: 0.9070 - val_loss: 0.4916 - val_accuracy: 0.8539\n",
            "Epoch 89/100\n",
            "32/32 [==============================] - 2s 73ms/step - loss: 0.4241 - accuracy: 0.8924 - val_loss: 0.4977 - val_accuracy: 0.8447\n",
            "Epoch 90/100\n",
            "32/32 [==============================] - 2s 66ms/step - loss: 0.4219 - accuracy: 0.8953 - val_loss: 0.5380 - val_accuracy: 0.8037\n",
            "Epoch 91/100\n",
            "32/32 [==============================] - 2s 66ms/step - loss: 0.4166 - accuracy: 0.8904 - val_loss: 0.5158 - val_accuracy: 0.8219\n",
            "Epoch 92/100\n",
            "32/32 [==============================] - 2s 61ms/step - loss: 0.4284 - accuracy: 0.8836 - val_loss: 0.5006 - val_accuracy: 0.8447\n",
            "Epoch 93/100\n",
            "32/32 [==============================] - 2s 61ms/step - loss: 0.4501 - accuracy: 0.8816 - val_loss: 0.5103 - val_accuracy: 0.8402\n",
            "Epoch 94/100\n",
            "32/32 [==============================] - 3s 84ms/step - loss: 0.4412 - accuracy: 0.8933 - val_loss: 0.5206 - val_accuracy: 0.8311\n",
            "Epoch 95/100\n",
            "32/32 [==============================] - 3s 87ms/step - loss: 0.4121 - accuracy: 0.8943 - val_loss: 0.5207 - val_accuracy: 0.8128\n",
            "Epoch 96/100\n",
            "32/32 [==============================] - 3s 96ms/step - loss: 0.4436 - accuracy: 0.8845 - val_loss: 0.5161 - val_accuracy: 0.8493\n",
            "Epoch 97/100\n",
            "32/32 [==============================] - 3s 81ms/step - loss: 0.4153 - accuracy: 0.8992 - val_loss: 0.5259 - val_accuracy: 0.8082\n",
            "Epoch 98/100\n",
            "32/32 [==============================] - 2s 61ms/step - loss: 0.4360 - accuracy: 0.8885 - val_loss: 0.5102 - val_accuracy: 0.8174\n",
            "Epoch 99/100\n",
            "32/32 [==============================] - 3s 80ms/step - loss: 0.4399 - accuracy: 0.8845 - val_loss: 0.5759 - val_accuracy: 0.8219\n",
            "Epoch 100/100\n",
            "32/32 [==============================] - 2s 77ms/step - loss: 0.4169 - accuracy: 0.8963 - val_loss: 0.5163 - val_accuracy: 0.8219\n"
          ]
        }
      ],
      "source": [
        "model_3.compile(optimizer='adam',\n",
        "              loss='binary_crossentropy',\n",
        "              metrics=['accuracy'])\n",
        "hist_3 = model_3.fit(X_train, Y_train,\n",
        "          batch_size=32, epochs=100,\n",
        "          validation_data=(X_val, Y_val))"
      ]
    },
    {
      "cell_type": "markdown",
      "metadata": {
        "id": "bmsQzf_8LZfl"
      },
      "source": [
        "We'll now plot the loss and accuracy graphs for Model 3. You'll notice that the loss is a lot higher at the start, and that's because we've changed our loss function. To plot such that the window is zoomed in between 0 and 1.2 for the loss, we add an additional line of code (plt.ylim) when plotting"
      ]
    },
    {
      "cell_type": "code",
      "execution_count": 35,
      "metadata": {
        "id": "a3bFwxDJLZfl",
        "outputId": "e8058fc0-ec48-47d2-834c-1b62f25bceeb",
        "colab": {
          "base_uri": "https://localhost:8080/",
          "height": 472
        }
      },
      "outputs": [
        {
          "output_type": "display_data",
          "data": {
            "text/plain": [
              "<Figure size 640x480 with 1 Axes>"
            ],
            "image/png": "[encoded data removed]"
          },
          "metadata": {}
        }
      ],
      "source": [
        "plt.plot(hist_3.history['loss'])\n",
        "plt.plot(hist_3.history['val_loss'])\n",
        "plt.title('Model loss')\n",
        "plt.ylabel('Loss')\n",
        "plt.xlabel('Epoch')\n",
        "plt.legend(['Train', 'Val'], loc='upper right')\n",
        "plt.ylim(top=1.2, bottom=0)\n",
        "plt.show()"
      ]
    },
    {
      "cell_type": "markdown",
      "metadata": {
        "id": "OAuMNn4rLZfm"
      },
      "source": [
        "As compared to Model 2, you should see that there's less overfitting!"
      ]
    }
  ]
}